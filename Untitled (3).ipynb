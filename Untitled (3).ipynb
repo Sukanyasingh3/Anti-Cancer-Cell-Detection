{
 "cells": [
  {
   "cell_type": "code",
   "execution_count": 3,
   "id": "db5f1b0e-72b7-483e-a056-35719361c1e8",
   "metadata": {},
   "outputs": [],
   "source": [
    "import pandas as pd\n",
    "import numpy as np\n",
    "from sklearn.model_selection import train_test_split\n",
    "from sklearn.preprocessing import StandardScaler\n",
    "from sklearn.tree import DecisionTreeClassifier\n",
    "from sklearn.ensemble import RandomForestClassifier\n",
    "from imblearn.over_sampling import SMOTE\n",
    "import matplotlib.pyplot as plt\n",
    "from sklearn import tree\n",
    "from sklearn.naive_bayes import GaussianNB\n",
    "from sklearn.metrics import confusion_matrix\n",
    "from sklearn.model_selection import cross_val_score, KFold\n"
   ]
  },
  {
   "cell_type": "code",
   "execution_count": 4,
   "id": "ac893842-0d79-461a-9cf6-b38bfff250b9",
   "metadata": {},
   "outputs": [],
   "source": [
    "df = pd.read_csv('trainset.csv')"
   ]
  },
  {
   "cell_type": "code",
   "execution_count": 5,
   "id": "32578c6c-7fef-4692-aa8e-890422ab8871",
   "metadata": {},
   "outputs": [
    {
     "data": {
      "text/html": [
       "<div>\n",
       "<style scoped>\n",
       "    .dataframe tbody tr th:only-of-type {\n",
       "        vertical-align: middle;\n",
       "    }\n",
       "\n",
       "    .dataframe tbody tr th {\n",
       "        vertical-align: top;\n",
       "    }\n",
       "\n",
       "    .dataframe thead th {\n",
       "        text-align: right;\n",
       "    }\n",
       "</style>\n",
       "<table border=\"1\" class=\"dataframe\">\n",
       "  <thead>\n",
       "    <tr style=\"text-align: right;\">\n",
       "      <th></th>\n",
       "      <th>cls</th>\n",
       "      <th>ABC</th>\n",
       "      <th>ABCGG</th>\n",
       "      <th>nAcid</th>\n",
       "      <th>nBase</th>\n",
       "      <th>SpAbs_A</th>\n",
       "      <th>SpMax_A</th>\n",
       "      <th>SpDiam_A</th>\n",
       "      <th>SpAD_A</th>\n",
       "      <th>SpMAD_A</th>\n",
       "      <th>...</th>\n",
       "      <th>SRW10</th>\n",
       "      <th>TSRW10</th>\n",
       "      <th>MW</th>\n",
       "      <th>AMW</th>\n",
       "      <th>WPath</th>\n",
       "      <th>WPol</th>\n",
       "      <th>Zagreb1</th>\n",
       "      <th>Zagreb2</th>\n",
       "      <th>mZagreb1</th>\n",
       "      <th>mZagreb2</th>\n",
       "    </tr>\n",
       "  </thead>\n",
       "  <tbody>\n",
       "    <tr>\n",
       "      <th>0</th>\n",
       "      <td>1</td>\n",
       "      <td>NaN</td>\n",
       "      <td>NaN</td>\n",
       "      <td>0</td>\n",
       "      <td>0</td>\n",
       "      <td>25.001104</td>\n",
       "      <td>2.501652</td>\n",
       "      <td>4.923679</td>\n",
       "      <td>25.001104</td>\n",
       "      <td>1.250055</td>\n",
       "      <td>...</td>\n",
       "      <td>9.918524</td>\n",
       "      <td>67.526731</td>\n",
       "      <td>284.075684</td>\n",
       "      <td>8.877365</td>\n",
       "      <td>764</td>\n",
       "      <td>32</td>\n",
       "      <td>100</td>\n",
       "      <td>119</td>\n",
       "      <td>7.777778</td>\n",
       "      <td>4.666667</td>\n",
       "    </tr>\n",
       "    <tr>\n",
       "      <th>1</th>\n",
       "      <td>1</td>\n",
       "      <td>NaN</td>\n",
       "      <td>NaN</td>\n",
       "      <td>0</td>\n",
       "      <td>0</td>\n",
       "      <td>20.274271</td>\n",
       "      <td>2.409184</td>\n",
       "      <td>4.779725</td>\n",
       "      <td>20.274271</td>\n",
       "      <td>1.267142</td>\n",
       "      <td>...</td>\n",
       "      <td>9.636588</td>\n",
       "      <td>61.986524</td>\n",
       "      <td>226.038985</td>\n",
       "      <td>9.827782</td>\n",
       "      <td>429</td>\n",
       "      <td>23</td>\n",
       "      <td>82</td>\n",
       "      <td>96</td>\n",
       "      <td>6.166667</td>\n",
       "      <td>3.583333</td>\n",
       "    </tr>\n",
       "    <tr>\n",
       "      <th>2</th>\n",
       "      <td>1</td>\n",
       "      <td>NaN</td>\n",
       "      <td>NaN</td>\n",
       "      <td>0</td>\n",
       "      <td>0</td>\n",
       "      <td>23.679070</td>\n",
       "      <td>2.528665</td>\n",
       "      <td>4.931112</td>\n",
       "      <td>23.679070</td>\n",
       "      <td>1.392886</td>\n",
       "      <td>...</td>\n",
       "      <td>10.022647</td>\n",
       "      <td>65.026165</td>\n",
       "      <td>223.074562</td>\n",
       "      <td>8.579791</td>\n",
       "      <td>461</td>\n",
       "      <td>29</td>\n",
       "      <td>98</td>\n",
       "      <td>121</td>\n",
       "      <td>3.416667</td>\n",
       "      <td>3.638889</td>\n",
       "    </tr>\n",
       "    <tr>\n",
       "      <th>3</th>\n",
       "      <td>1</td>\n",
       "      <td>NaN</td>\n",
       "      <td>NaN</td>\n",
       "      <td>0</td>\n",
       "      <td>0</td>\n",
       "      <td>27.774585</td>\n",
       "      <td>2.557762</td>\n",
       "      <td>4.967131</td>\n",
       "      <td>27.774585</td>\n",
       "      <td>1.388729</td>\n",
       "      <td>...</td>\n",
       "      <td>10.250228</td>\n",
       "      <td>70.773493</td>\n",
       "      <td>266.069142</td>\n",
       "      <td>8.868971</td>\n",
       "      <td>735</td>\n",
       "      <td>35</td>\n",
       "      <td>120</td>\n",
       "      <td>150</td>\n",
       "      <td>3.888889</td>\n",
       "      <td>4.166667</td>\n",
       "    </tr>\n",
       "    <tr>\n",
       "      <th>4</th>\n",
       "      <td>1</td>\n",
       "      <td>NaN</td>\n",
       "      <td>NaN</td>\n",
       "      <td>0</td>\n",
       "      <td>0</td>\n",
       "      <td>39.613943</td>\n",
       "      <td>2.477563</td>\n",
       "      <td>4.835703</td>\n",
       "      <td>39.613943</td>\n",
       "      <td>1.320465</td>\n",
       "      <td>...</td>\n",
       "      <td>10.233043</td>\n",
       "      <td>79.537169</td>\n",
       "      <td>415.183067</td>\n",
       "      <td>7.548783</td>\n",
       "      <td>2674</td>\n",
       "      <td>45</td>\n",
       "      <td>156</td>\n",
       "      <td>182</td>\n",
       "      <td>8.500000</td>\n",
       "      <td>6.694444</td>\n",
       "    </tr>\n",
       "    <tr>\n",
       "      <th>...</th>\n",
       "      <td>...</td>\n",
       "      <td>...</td>\n",
       "      <td>...</td>\n",
       "      <td>...</td>\n",
       "      <td>...</td>\n",
       "      <td>...</td>\n",
       "      <td>...</td>\n",
       "      <td>...</td>\n",
       "      <td>...</td>\n",
       "      <td>...</td>\n",
       "      <td>...</td>\n",
       "      <td>...</td>\n",
       "      <td>...</td>\n",
       "      <td>...</td>\n",
       "      <td>...</td>\n",
       "      <td>...</td>\n",
       "      <td>...</td>\n",
       "      <td>...</td>\n",
       "      <td>...</td>\n",
       "      <td>...</td>\n",
       "      <td>...</td>\n",
       "    </tr>\n",
       "    <tr>\n",
       "      <th>7995</th>\n",
       "      <td>0</td>\n",
       "      <td>NaN</td>\n",
       "      <td>NaN</td>\n",
       "      <td>0</td>\n",
       "      <td>1</td>\n",
       "      <td>25.162228</td>\n",
       "      <td>2.444418</td>\n",
       "      <td>4.888835</td>\n",
       "      <td>25.162228</td>\n",
       "      <td>1.324328</td>\n",
       "      <td>...</td>\n",
       "      <td>9.911108</td>\n",
       "      <td>52.566001</td>\n",
       "      <td>259.120843</td>\n",
       "      <td>7.197801</td>\n",
       "      <td>688</td>\n",
       "      <td>30</td>\n",
       "      <td>100</td>\n",
       "      <td>118</td>\n",
       "      <td>5.416667</td>\n",
       "      <td>4.194444</td>\n",
       "    </tr>\n",
       "    <tr>\n",
       "      <th>7996</th>\n",
       "      <td>0</td>\n",
       "      <td>NaN</td>\n",
       "      <td>NaN</td>\n",
       "      <td>0</td>\n",
       "      <td>0</td>\n",
       "      <td>25.266178</td>\n",
       "      <td>2.534987</td>\n",
       "      <td>4.934272</td>\n",
       "      <td>25.266178</td>\n",
       "      <td>1.203151</td>\n",
       "      <td>...</td>\n",
       "      <td>10.024155</td>\n",
       "      <td>69.315801</td>\n",
       "      <td>328.076075</td>\n",
       "      <td>8.633581</td>\n",
       "      <td>904</td>\n",
       "      <td>34</td>\n",
       "      <td>108</td>\n",
       "      <td>128</td>\n",
       "      <td>9.250000</td>\n",
       "      <td>4.611111</td>\n",
       "    </tr>\n",
       "    <tr>\n",
       "      <th>7997</th>\n",
       "      <td>0</td>\n",
       "      <td>NaN</td>\n",
       "      <td>NaN</td>\n",
       "      <td>2</td>\n",
       "      <td>0</td>\n",
       "      <td>23.921252</td>\n",
       "      <td>2.296174</td>\n",
       "      <td>4.541085</td>\n",
       "      <td>23.921252</td>\n",
       "      <td>1.259013</td>\n",
       "      <td>...</td>\n",
       "      <td>9.488048</td>\n",
       "      <td>65.073826</td>\n",
       "      <td>278.094980</td>\n",
       "      <td>8.427121</td>\n",
       "      <td>813</td>\n",
       "      <td>23</td>\n",
       "      <td>92</td>\n",
       "      <td>103</td>\n",
       "      <td>6.305556</td>\n",
       "      <td>4.361111</td>\n",
       "    </tr>\n",
       "    <tr>\n",
       "      <th>7998</th>\n",
       "      <td>0</td>\n",
       "      <td>NaN</td>\n",
       "      <td>NaN</td>\n",
       "      <td>0</td>\n",
       "      <td>0</td>\n",
       "      <td>35.341681</td>\n",
       "      <td>2.541818</td>\n",
       "      <td>5.014881</td>\n",
       "      <td>35.341681</td>\n",
       "      <td>1.359295</td>\n",
       "      <td>...</td>\n",
       "      <td>10.356186</td>\n",
       "      <td>75.559148</td>\n",
       "      <td>352.169939</td>\n",
       "      <td>7.492977</td>\n",
       "      <td>1547</td>\n",
       "      <td>44</td>\n",
       "      <td>146</td>\n",
       "      <td>177</td>\n",
       "      <td>6.000000</td>\n",
       "      <td>5.583333</td>\n",
       "    </tr>\n",
       "    <tr>\n",
       "      <th>7999</th>\n",
       "      <td>0</td>\n",
       "      <td>NaN</td>\n",
       "      <td>NaN</td>\n",
       "      <td>0</td>\n",
       "      <td>0</td>\n",
       "      <td>31.179816</td>\n",
       "      <td>2.416831</td>\n",
       "      <td>4.706367</td>\n",
       "      <td>31.179816</td>\n",
       "      <td>1.299159</td>\n",
       "      <td>...</td>\n",
       "      <td>9.878324</td>\n",
       "      <td>73.901759</td>\n",
       "      <td>361.077950</td>\n",
       "      <td>9.258409</td>\n",
       "      <td>1515</td>\n",
       "      <td>32</td>\n",
       "      <td>122</td>\n",
       "      <td>141</td>\n",
       "      <td>7.277778</td>\n",
       "      <td>5.416667</td>\n",
       "    </tr>\n",
       "  </tbody>\n",
       "</table>\n",
       "<p>8000 rows × 1614 columns</p>\n",
       "</div>"
      ],
      "text/plain": [
       "      cls  ABC  ABCGG  nAcid  nBase    SpAbs_A   SpMax_A  SpDiam_A     SpAD_A  \\\n",
       "0       1  NaN    NaN      0      0  25.001104  2.501652  4.923679  25.001104   \n",
       "1       1  NaN    NaN      0      0  20.274271  2.409184  4.779725  20.274271   \n",
       "2       1  NaN    NaN      0      0  23.679070  2.528665  4.931112  23.679070   \n",
       "3       1  NaN    NaN      0      0  27.774585  2.557762  4.967131  27.774585   \n",
       "4       1  NaN    NaN      0      0  39.613943  2.477563  4.835703  39.613943   \n",
       "...   ...  ...    ...    ...    ...        ...       ...       ...        ...   \n",
       "7995    0  NaN    NaN      0      1  25.162228  2.444418  4.888835  25.162228   \n",
       "7996    0  NaN    NaN      0      0  25.266178  2.534987  4.934272  25.266178   \n",
       "7997    0  NaN    NaN      2      0  23.921252  2.296174  4.541085  23.921252   \n",
       "7998    0  NaN    NaN      0      0  35.341681  2.541818  5.014881  35.341681   \n",
       "7999    0  NaN    NaN      0      0  31.179816  2.416831  4.706367  31.179816   \n",
       "\n",
       "       SpMAD_A  ...      SRW10     TSRW10          MW       AMW  WPath  WPol  \\\n",
       "0     1.250055  ...   9.918524  67.526731  284.075684  8.877365    764    32   \n",
       "1     1.267142  ...   9.636588  61.986524  226.038985  9.827782    429    23   \n",
       "2     1.392886  ...  10.022647  65.026165  223.074562  8.579791    461    29   \n",
       "3     1.388729  ...  10.250228  70.773493  266.069142  8.868971    735    35   \n",
       "4     1.320465  ...  10.233043  79.537169  415.183067  7.548783   2674    45   \n",
       "...        ...  ...        ...        ...         ...       ...    ...   ...   \n",
       "7995  1.324328  ...   9.911108  52.566001  259.120843  7.197801    688    30   \n",
       "7996  1.203151  ...  10.024155  69.315801  328.076075  8.633581    904    34   \n",
       "7997  1.259013  ...   9.488048  65.073826  278.094980  8.427121    813    23   \n",
       "7998  1.359295  ...  10.356186  75.559148  352.169939  7.492977   1547    44   \n",
       "7999  1.299159  ...   9.878324  73.901759  361.077950  9.258409   1515    32   \n",
       "\n",
       "      Zagreb1  Zagreb2  mZagreb1  mZagreb2  \n",
       "0         100      119  7.777778  4.666667  \n",
       "1          82       96  6.166667  3.583333  \n",
       "2          98      121  3.416667  3.638889  \n",
       "3         120      150  3.888889  4.166667  \n",
       "4         156      182  8.500000  6.694444  \n",
       "...       ...      ...       ...       ...  \n",
       "7995      100      118  5.416667  4.194444  \n",
       "7996      108      128  9.250000  4.611111  \n",
       "7997       92      103  6.305556  4.361111  \n",
       "7998      146      177  6.000000  5.583333  \n",
       "7999      122      141  7.277778  5.416667  \n",
       "\n",
       "[8000 rows x 1614 columns]"
      ]
     },
     "execution_count": 5,
     "metadata": {},
     "output_type": "execute_result"
    }
   ],
   "source": [
    "df"
   ]
  },
  {
   "cell_type": "code",
   "execution_count": 6,
   "id": "85e8e81c-1804-4f54-93b2-0146946a79a8",
   "metadata": {},
   "outputs": [
    {
     "data": {
      "text/plain": [
       "cls            0\n",
       "ABC         8000\n",
       "ABCGG       8000\n",
       "nAcid          0\n",
       "nBase          0\n",
       "            ... \n",
       "WPol           0\n",
       "Zagreb1        0\n",
       "Zagreb2        0\n",
       "mZagreb1     347\n",
       "mZagreb2       0\n",
       "Length: 1614, dtype: int64"
      ]
     },
     "execution_count": 6,
     "metadata": {},
     "output_type": "execute_result"
    }
   ],
   "source": [
    "df.isnull().sum()"
   ]
  },
  {
   "cell_type": "code",
   "execution_count": 7,
   "id": "d0327804-40fa-44c1-bb56-f3c65cc4ce84",
   "metadata": {},
   "outputs": [],
   "source": [
    "df.fillna(0,inplace=True)"
   ]
  },
  {
   "cell_type": "code",
   "execution_count": 8,
   "id": "30b5f57e-04e6-49a7-8d25-1ea342796bb6",
   "metadata": {},
   "outputs": [
    {
     "data": {
      "text/plain": [
       "cls         0\n",
       "ABC         0\n",
       "ABCGG       0\n",
       "nAcid       0\n",
       "nBase       0\n",
       "           ..\n",
       "WPol        0\n",
       "Zagreb1     0\n",
       "Zagreb2     0\n",
       "mZagreb1    0\n",
       "mZagreb2    0\n",
       "Length: 1614, dtype: int64"
      ]
     },
     "execution_count": 8,
     "metadata": {},
     "output_type": "execute_result"
    }
   ],
   "source": [
    "df.isnull().sum()"
   ]
  },
  {
   "cell_type": "code",
   "execution_count": 9,
   "id": "1a451b95-1fcd-410e-ae39-7a7f3a228848",
   "metadata": {},
   "outputs": [
    {
     "data": {
      "text/html": [
       "<div>\n",
       "<style scoped>\n",
       "    .dataframe tbody tr th:only-of-type {\n",
       "        vertical-align: middle;\n",
       "    }\n",
       "\n",
       "    .dataframe tbody tr th {\n",
       "        vertical-align: top;\n",
       "    }\n",
       "\n",
       "    .dataframe thead th {\n",
       "        text-align: right;\n",
       "    }\n",
       "</style>\n",
       "<table border=\"1\" class=\"dataframe\">\n",
       "  <thead>\n",
       "    <tr style=\"text-align: right;\">\n",
       "      <th></th>\n",
       "      <th>cls</th>\n",
       "      <th>ABC</th>\n",
       "      <th>ABCGG</th>\n",
       "      <th>nAcid</th>\n",
       "      <th>nBase</th>\n",
       "      <th>SpAbs_A</th>\n",
       "      <th>SpMax_A</th>\n",
       "      <th>SpDiam_A</th>\n",
       "      <th>SpAD_A</th>\n",
       "      <th>SpMAD_A</th>\n",
       "      <th>...</th>\n",
       "      <th>SRW10</th>\n",
       "      <th>TSRW10</th>\n",
       "      <th>MW</th>\n",
       "      <th>AMW</th>\n",
       "      <th>WPath</th>\n",
       "      <th>WPol</th>\n",
       "      <th>Zagreb1</th>\n",
       "      <th>Zagreb2</th>\n",
       "      <th>mZagreb1</th>\n",
       "      <th>mZagreb2</th>\n",
       "    </tr>\n",
       "  </thead>\n",
       "  <tbody>\n",
       "  </tbody>\n",
       "</table>\n",
       "<p>0 rows × 1614 columns</p>\n",
       "</div>"
      ],
      "text/plain": [
       "Empty DataFrame\n",
       "Columns: [cls, ABC, ABCGG, nAcid, nBase, SpAbs_A, SpMax_A, SpDiam_A, SpAD_A, SpMAD_A, LogEE_A, VE1_A, VE2_A, VE3_A, VR1_A, VR2_A, VR3_A, nAromAtom, nAromBond, nAtom, nHeavyAtom, nSpiro, nBridgehead, nHetero, nH, nB, nC, nN, nO, nS, nP, nF, nCl, nBr, nI, nX, ATS0dv, ATS1dv, ATS2dv, ATS3dv, ATS4dv, ATS5dv, ATS6dv, ATS7dv, ATS8dv, ATS0d, ATS1d, ATS2d, ATS3d, ATS4d, ATS5d, ATS6d, ATS7d, ATS8d, ATS0s, ATS1s, ATS2s, ATS3s, ATS4s, ATS5s, ATS6s, ATS7s, ATS8s, ATS0Z, ATS1Z, ATS2Z, ATS3Z, ATS4Z, ATS5Z, ATS6Z, ATS7Z, ATS8Z, ATS0m, ATS1m, ATS2m, ATS3m, ATS4m, ATS5m, ATS6m, ATS7m, ATS8m, ATS0v, ATS1v, ATS2v, ATS3v, ATS4v, ATS5v, ATS6v, ATS7v, ATS8v, ATS0se, ATS1se, ATS2se, ATS3se, ATS4se, ATS5se, ATS6se, ATS7se, ATS8se, ATS0pe, ...]\n",
       "Index: []\n",
       "\n",
       "[0 rows x 1614 columns]"
      ]
     },
     "execution_count": 9,
     "metadata": {},
     "output_type": "execute_result"
    }
   ],
   "source": [
    "df[df.isnull().any(axis=1)]"
   ]
  },
  {
   "cell_type": "code",
   "execution_count": 22,
   "id": "713a6aa7-e230-4b51-a92f-15120f3f80fc",
   "metadata": {},
   "outputs": [],
   "source": [
    "from pandas_summary import DataFrameSummary"
   ]
  },
  {
   "cell_type": "code",
   "execution_count": 23,
   "id": "d1f86103-5a68-41b6-adb5-9eb57549acc6",
   "metadata": {},
   "outputs": [],
   "source": [
    "dfs=DataFrameSummary(df)\n"
   ]
  },
  {
   "cell_type": "code",
   "execution_count": 24,
   "id": "ce4ecfe2-db14-43d3-bec3-3af86ad08707",
   "metadata": {},
   "outputs": [
    {
     "data": {
      "text/html": [
       "<div>\n",
       "<style scoped>\n",
       "    .dataframe tbody tr th:only-of-type {\n",
       "        vertical-align: middle;\n",
       "    }\n",
       "\n",
       "    .dataframe tbody tr th {\n",
       "        vertical-align: top;\n",
       "    }\n",
       "\n",
       "    .dataframe thead th {\n",
       "        text-align: right;\n",
       "    }\n",
       "</style>\n",
       "<table border=\"1\" class=\"dataframe\">\n",
       "  <thead>\n",
       "    <tr style=\"text-align: right;\">\n",
       "      <th></th>\n",
       "      <th>cls</th>\n",
       "      <th>ABC</th>\n",
       "      <th>ABCGG</th>\n",
       "      <th>nAcid</th>\n",
       "      <th>nBase</th>\n",
       "      <th>SpAbs_A</th>\n",
       "      <th>SpMax_A</th>\n",
       "      <th>SpDiam_A</th>\n",
       "      <th>SpAD_A</th>\n",
       "      <th>SpMAD_A</th>\n",
       "      <th>...</th>\n",
       "      <th>SRW10</th>\n",
       "      <th>TSRW10</th>\n",
       "      <th>MW</th>\n",
       "      <th>AMW</th>\n",
       "      <th>WPath</th>\n",
       "      <th>WPol</th>\n",
       "      <th>Zagreb1</th>\n",
       "      <th>Zagreb2</th>\n",
       "      <th>mZagreb1</th>\n",
       "      <th>mZagreb2</th>\n",
       "    </tr>\n",
       "  </thead>\n",
       "  <tbody>\n",
       "    <tr>\n",
       "      <th>counts</th>\n",
       "      <td>8000</td>\n",
       "      <td>8000</td>\n",
       "      <td>8000</td>\n",
       "      <td>8000</td>\n",
       "      <td>8000</td>\n",
       "      <td>8000</td>\n",
       "      <td>8000</td>\n",
       "      <td>8000</td>\n",
       "      <td>8000</td>\n",
       "      <td>8000</td>\n",
       "      <td>...</td>\n",
       "      <td>8000</td>\n",
       "      <td>8000</td>\n",
       "      <td>8000</td>\n",
       "      <td>8000</td>\n",
       "      <td>8000</td>\n",
       "      <td>8000</td>\n",
       "      <td>8000</td>\n",
       "      <td>8000</td>\n",
       "      <td>8000</td>\n",
       "      <td>8000</td>\n",
       "    </tr>\n",
       "    <tr>\n",
       "      <th>uniques</th>\n",
       "      <td>2</td>\n",
       "      <td>1</td>\n",
       "      <td>1</td>\n",
       "      <td>6</td>\n",
       "      <td>6</td>\n",
       "      <td>7250</td>\n",
       "      <td>7223</td>\n",
       "      <td>7225</td>\n",
       "      <td>7250</td>\n",
       "      <td>7254</td>\n",
       "      <td>...</td>\n",
       "      <td>5918</td>\n",
       "      <td>7625</td>\n",
       "      <td>6161</td>\n",
       "      <td>6106</td>\n",
       "      <td>3715</td>\n",
       "      <td>97</td>\n",
       "      <td>132</td>\n",
       "      <td>285</td>\n",
       "      <td>902</td>\n",
       "      <td>586</td>\n",
       "    </tr>\n",
       "    <tr>\n",
       "      <th>missing</th>\n",
       "      <td>0</td>\n",
       "      <td>0</td>\n",
       "      <td>0</td>\n",
       "      <td>0</td>\n",
       "      <td>0</td>\n",
       "      <td>0</td>\n",
       "      <td>0</td>\n",
       "      <td>0</td>\n",
       "      <td>0</td>\n",
       "      <td>0</td>\n",
       "      <td>...</td>\n",
       "      <td>0</td>\n",
       "      <td>0</td>\n",
       "      <td>0</td>\n",
       "      <td>0</td>\n",
       "      <td>0</td>\n",
       "      <td>0</td>\n",
       "      <td>0</td>\n",
       "      <td>0</td>\n",
       "      <td>0</td>\n",
       "      <td>0</td>\n",
       "    </tr>\n",
       "    <tr>\n",
       "      <th>missing_perc</th>\n",
       "      <td>0%</td>\n",
       "      <td>0%</td>\n",
       "      <td>0%</td>\n",
       "      <td>0%</td>\n",
       "      <td>0%</td>\n",
       "      <td>0%</td>\n",
       "      <td>0%</td>\n",
       "      <td>0%</td>\n",
       "      <td>0%</td>\n",
       "      <td>0%</td>\n",
       "      <td>...</td>\n",
       "      <td>0%</td>\n",
       "      <td>0%</td>\n",
       "      <td>0%</td>\n",
       "      <td>0%</td>\n",
       "      <td>0%</td>\n",
       "      <td>0%</td>\n",
       "      <td>0%</td>\n",
       "      <td>0%</td>\n",
       "      <td>0%</td>\n",
       "      <td>0%</td>\n",
       "    </tr>\n",
       "    <tr>\n",
       "      <th>types</th>\n",
       "      <td>bool</td>\n",
       "      <td>constant</td>\n",
       "      <td>constant</td>\n",
       "      <td>numeric</td>\n",
       "      <td>numeric</td>\n",
       "      <td>numeric</td>\n",
       "      <td>numeric</td>\n",
       "      <td>numeric</td>\n",
       "      <td>numeric</td>\n",
       "      <td>numeric</td>\n",
       "      <td>...</td>\n",
       "      <td>numeric</td>\n",
       "      <td>numeric</td>\n",
       "      <td>numeric</td>\n",
       "      <td>numeric</td>\n",
       "      <td>numeric</td>\n",
       "      <td>numeric</td>\n",
       "      <td>numeric</td>\n",
       "      <td>numeric</td>\n",
       "      <td>numeric</td>\n",
       "      <td>numeric</td>\n",
       "    </tr>\n",
       "  </tbody>\n",
       "</table>\n",
       "<p>5 rows × 1614 columns</p>\n",
       "</div>"
      ],
      "text/plain": [
       "               cls       ABC     ABCGG    nAcid    nBase  SpAbs_A  SpMax_A  \\\n",
       "counts        8000      8000      8000     8000     8000     8000     8000   \n",
       "uniques          2         1         1        6        6     7250     7223   \n",
       "missing          0         0         0        0        0        0        0   \n",
       "missing_perc    0%        0%        0%       0%       0%       0%       0%   \n",
       "types         bool  constant  constant  numeric  numeric  numeric  numeric   \n",
       "\n",
       "             SpDiam_A   SpAD_A  SpMAD_A  ...    SRW10   TSRW10       MW  \\\n",
       "counts           8000     8000     8000  ...     8000     8000     8000   \n",
       "uniques          7225     7250     7254  ...     5918     7625     6161   \n",
       "missing             0        0        0  ...        0        0        0   \n",
       "missing_perc       0%       0%       0%  ...       0%       0%       0%   \n",
       "types         numeric  numeric  numeric  ...  numeric  numeric  numeric   \n",
       "\n",
       "                  AMW    WPath     WPol  Zagreb1  Zagreb2 mZagreb1 mZagreb2  \n",
       "counts           8000     8000     8000     8000     8000     8000     8000  \n",
       "uniques          6106     3715       97      132      285      902      586  \n",
       "missing             0        0        0        0        0        0        0  \n",
       "missing_perc       0%       0%       0%       0%       0%       0%       0%  \n",
       "types         numeric  numeric  numeric  numeric  numeric  numeric  numeric  \n",
       "\n",
       "[5 rows x 1614 columns]"
      ]
     },
     "execution_count": 24,
     "metadata": {},
     "output_type": "execute_result"
    }
   ],
   "source": [
    "dfs.columns_stats\n"
   ]
  },
  {
   "cell_type": "code",
   "execution_count": 25,
   "id": "2ac0acdb-5b7f-4220-bee2-bded0d65cd75",
   "metadata": {},
   "outputs": [
    {
     "data": {
      "text/html": [
       "<div>\n",
       "<style scoped>\n",
       "    .dataframe tbody tr th:only-of-type {\n",
       "        vertical-align: middle;\n",
       "    }\n",
       "\n",
       "    .dataframe tbody tr th {\n",
       "        vertical-align: top;\n",
       "    }\n",
       "\n",
       "    .dataframe thead th {\n",
       "        text-align: right;\n",
       "    }\n",
       "</style>\n",
       "<table border=\"1\" class=\"dataframe\">\n",
       "  <thead>\n",
       "    <tr style=\"text-align: right;\">\n",
       "      <th></th>\n",
       "      <th>cls</th>\n",
       "      <th>ABC</th>\n",
       "      <th>ABCGG</th>\n",
       "      <th>nAcid</th>\n",
       "      <th>nBase</th>\n",
       "      <th>SpAbs_A</th>\n",
       "      <th>SpMax_A</th>\n",
       "      <th>SpDiam_A</th>\n",
       "      <th>SpAD_A</th>\n",
       "      <th>SpMAD_A</th>\n",
       "      <th>...</th>\n",
       "      <th>SRW10</th>\n",
       "      <th>TSRW10</th>\n",
       "      <th>MW</th>\n",
       "      <th>AMW</th>\n",
       "      <th>WPath</th>\n",
       "      <th>WPol</th>\n",
       "      <th>Zagreb1</th>\n",
       "      <th>Zagreb2</th>\n",
       "      <th>mZagreb1</th>\n",
       "      <th>mZagreb2</th>\n",
       "    </tr>\n",
       "  </thead>\n",
       "  <tbody>\n",
       "  </tbody>\n",
       "</table>\n",
       "<p>0 rows × 1614 columns</p>\n",
       "</div>"
      ],
      "text/plain": [
       "Empty DataFrame\n",
       "Columns: [cls, ABC, ABCGG, nAcid, nBase, SpAbs_A, SpMax_A, SpDiam_A, SpAD_A, SpMAD_A, LogEE_A, VE1_A, VE2_A, VE3_A, VR1_A, VR2_A, VR3_A, nAromAtom, nAromBond, nAtom, nHeavyAtom, nSpiro, nBridgehead, nHetero, nH, nB, nC, nN, nO, nS, nP, nF, nCl, nBr, nI, nX, ATS0dv, ATS1dv, ATS2dv, ATS3dv, ATS4dv, ATS5dv, ATS6dv, ATS7dv, ATS8dv, ATS0d, ATS1d, ATS2d, ATS3d, ATS4d, ATS5d, ATS6d, ATS7d, ATS8d, ATS0s, ATS1s, ATS2s, ATS3s, ATS4s, ATS5s, ATS6s, ATS7s, ATS8s, ATS0Z, ATS1Z, ATS2Z, ATS3Z, ATS4Z, ATS5Z, ATS6Z, ATS7Z, ATS8Z, ATS0m, ATS1m, ATS2m, ATS3m, ATS4m, ATS5m, ATS6m, ATS7m, ATS8m, ATS0v, ATS1v, ATS2v, ATS3v, ATS4v, ATS5v, ATS6v, ATS7v, ATS8v, ATS0se, ATS1se, ATS2se, ATS3se, ATS4se, ATS5se, ATS6se, ATS7se, ATS8se, ATS0pe, ...]\n",
       "Index: []\n",
       "\n",
       "[0 rows x 1614 columns]"
      ]
     },
     "execution_count": 25,
     "metadata": {},
     "output_type": "execute_result"
    }
   ],
   "source": [
    "df[df.isnull().any(axis=1)]"
   ]
  },
  {
   "cell_type": "code",
   "execution_count": 29,
   "id": "650f4484-86c1-4e6e-a3a4-37cb26aba27f",
   "metadata": {},
   "outputs": [],
   "source": [
    "X = df.loc[:,df.columns[1:]].values\n"
   ]
  },
  {
   "cell_type": "code",
   "execution_count": 30,
   "id": "7e3e0911-0bd3-41e7-8df1-2bb3d3fad7d7",
   "metadata": {},
   "outputs": [],
   "source": [
    "Y = df.loc[:,df.columns[0]].values"
   ]
  },
  {
   "cell_type": "code",
   "execution_count": 31,
   "id": "b23991e0-43e0-40b6-b145-9f1a4d101e28",
   "metadata": {},
   "outputs": [
    {
     "data": {
      "text/plain": [
       "array([[  0.        ,   0.        ,   0.        , ..., 119.        ,\n",
       "          7.77777778,   4.66666667],\n",
       "       [  0.        ,   0.        ,   0.        , ...,  96.        ,\n",
       "          6.16666667,   3.58333333],\n",
       "       [  0.        ,   0.        ,   0.        , ..., 121.        ,\n",
       "          3.41666667,   3.63888889],\n",
       "       ...,\n",
       "       [  0.        ,   0.        ,   2.        , ..., 103.        ,\n",
       "          6.30555556,   4.36111111],\n",
       "       [  0.        ,   0.        ,   0.        , ..., 177.        ,\n",
       "          6.        ,   5.58333333],\n",
       "       [  0.        ,   0.        ,   0.        , ..., 141.        ,\n",
       "          7.27777778,   5.41666667]])"
      ]
     },
     "execution_count": 31,
     "metadata": {},
     "output_type": "execute_result"
    }
   ],
   "source": [
    "X"
   ]
  },
  {
   "cell_type": "code",
   "execution_count": 32,
   "id": "7f3e4143-4867-425c-a35f-69a8388352d3",
   "metadata": {},
   "outputs": [
    {
     "data": {
      "text/plain": [
       "array([1, 1, 1, ..., 0, 0, 0], dtype=int64)"
      ]
     },
     "execution_count": 32,
     "metadata": {},
     "output_type": "execute_result"
    }
   ],
   "source": [
    "Y"
   ]
  },
  {
   "cell_type": "code",
   "execution_count": 33,
   "id": "6e5517b8-0bf5-4c8d-91a8-72eda396da46",
   "metadata": {},
   "outputs": [],
   "source": [
    "X_train,X_test,Y_train,Y_test=train_test_split(X,Y,test_size=0.2,random_state=0)"
   ]
  },
  {
   "cell_type": "code",
   "execution_count": 34,
   "id": "509b18cc-89eb-4ffc-b19a-0fbf775c251a",
   "metadata": {},
   "outputs": [
    {
     "data": {
      "text/plain": [
       "array([[  0.        ,   0.        ,   0.        , ..., 232.        ,\n",
       "         10.41666667,   6.26388889],\n",
       "       [  0.        ,   0.        ,   0.        , ...,  80.        ,\n",
       "          3.72222222,   3.75      ],\n",
       "       [  0.        ,   0.        ,   0.        , ..., 180.        ,\n",
       "          8.97222222,   5.83333333],\n",
       "       ...,\n",
       "       [  0.        ,   0.        ,   0.        , ..., 204.        ,\n",
       "         10.47222222,   7.38888889],\n",
       "       [  0.        ,   0.        ,   0.        , ..., 188.        ,\n",
       "          9.36111111,   6.77777778],\n",
       "       [  0.        ,   0.        ,   0.        , ..., 182.        ,\n",
       "         11.3125    ,   6.63888889]])"
      ]
     },
     "execution_count": 34,
     "metadata": {},
     "output_type": "execute_result"
    }
   ],
   "source": [
    "X_train"
   ]
  },
  {
   "cell_type": "code",
   "execution_count": 35,
   "id": "00fb8d05-b7e9-48c2-aa80-c1a5928a0203",
   "metadata": {},
   "outputs": [
    {
     "data": {
      "text/plain": [
       "array([[  0.        ,   0.        ,   0.        , ..., 147.        ,\n",
       "          8.13888889,   5.5       ],\n",
       "       [  0.        ,   0.        ,   2.        , ..., 156.        ,\n",
       "          8.63888889,   6.02777778],\n",
       "       [  0.        ,   0.        ,   0.        , ..., 158.        ,\n",
       "          8.27777778,   6.38888889],\n",
       "       ...,\n",
       "       [  0.        ,   0.        ,   0.        , ..., 163.        ,\n",
       "          9.25      ,   6.22222222],\n",
       "       [  0.        ,   0.        ,   0.        , ..., 191.        ,\n",
       "          9.72222222,   6.55555556],\n",
       "       [  0.        ,   0.        ,   0.        , ..., 144.        ,\n",
       "          8.34027778,   4.81944444]])"
      ]
     },
     "execution_count": 35,
     "metadata": {},
     "output_type": "execute_result"
    }
   ],
   "source": [
    "X_test"
   ]
  },
  {
   "cell_type": "code",
   "execution_count": 36,
   "id": "7ea25541-ab4f-413a-a399-1046d6e72488",
   "metadata": {},
   "outputs": [
    {
     "data": {
      "text/plain": [
       "array([1, 1, 0, ..., 0, 1, 0], dtype=int64)"
      ]
     },
     "execution_count": 36,
     "metadata": {},
     "output_type": "execute_result"
    }
   ],
   "source": [
    "Y_test"
   ]
  },
  {
   "cell_type": "code",
   "execution_count": 37,
   "id": "36a3e11a-65bf-413f-b45a-62d1732ad411",
   "metadata": {},
   "outputs": [
    {
     "data": {
      "text/plain": [
       "array([1, 0, 0, ..., 1, 1, 1], dtype=int64)"
      ]
     },
     "execution_count": 37,
     "metadata": {},
     "output_type": "execute_result"
    }
   ],
   "source": [
    "Y_train"
   ]
  },
  {
   "cell_type": "code",
   "execution_count": 38,
   "id": "5bbf5822-fc9d-4266-bd26-96dd9ee4f7bf",
   "metadata": {},
   "outputs": [],
   "source": [
    "from sklearn.preprocessing import StandardScaler"
   ]
  },
  {
   "cell_type": "code",
   "execution_count": 39,
   "id": "3fae616c-6ffd-41ba-8b78-01bd474274c8",
   "metadata": {},
   "outputs": [],
   "source": [
    "sc_x=StandardScaler ()\n",
    "X_train=sc_x.fit_transform(X_train)\n",
    "X_test=sc_x.transform(X_test)"
   ]
  },
  {
   "cell_type": "code",
   "execution_count": 40,
   "id": "34baf7cd-a045-4336-8341-da55f5a74cc7",
   "metadata": {},
   "outputs": [
    {
     "name": "stdout",
     "output_type": "stream",
     "text": [
      "{0: 3210, 1: 3190}\n"
     ]
    }
   ],
   "source": [
    "# Use NumPy's unique() function to get unique values and their counts\n",
    "unique_values, counts = np.unique(Y_train, return_counts=True)\n",
    "\n",
    "# Create a dictionary to store the results\n",
    "value_counts = dict(zip(unique_values, counts))\n",
    "\n",
    "# Print the value counts\n",
    "print(value_counts)"
   ]
  },
  {
   "cell_type": "code",
   "execution_count": 41,
   "id": "8fdb59b4-632a-436c-b240-f62a2e1eeeef",
   "metadata": {},
   "outputs": [],
   "source": [
    "smote=SMOTE(random_state=27)\n",
    "smote_X_train,smote_y_train=smote.fit_resample(X_train,Y_train)"
   ]
  },
  {
   "cell_type": "code",
   "execution_count": 42,
   "id": "02475267-8530-4ca9-abcb-eed1fc6f2f9f",
   "metadata": {},
   "outputs": [
    {
     "name": "stdout",
     "output_type": "stream",
     "text": [
      "{0: 3210, 1: 3210}\n"
     ]
    }
   ],
   "source": [
    "# Use NumPy's unique() function to get unique values and their counts\n",
    "unique_values, counts = np.unique(smote_y_train, return_counts=True)\n",
    "\n",
    "# Create a dictionary to store the results\n",
    "value_counts = dict(zip(unique_values, counts))\n",
    "\n",
    "# Print the value counts\n",
    "print(value_counts)"
   ]
  },
  {
   "cell_type": "code",
   "execution_count": 43,
   "id": "5085b3c7-e2fb-4eae-9f3a-fd21c82d2c6f",
   "metadata": {},
   "outputs": [],
   "source": [
    "k_fold = KFold(n_splits=5, shuffle=True, random_state=42)\n"
   ]
  },
  {
   "cell_type": "code",
   "execution_count": 44,
   "id": "861a3e26-3e21-477b-92af-e9c466066bbf",
   "metadata": {},
   "outputs": [],
   "source": [
    "classifier=DecisionTreeClassifier(criterion='gini')\n"
   ]
  },
  {
   "cell_type": "code",
   "execution_count": 45,
   "id": "11a6015b-dd13-4554-ada0-8c8cf6d43c05",
   "metadata": {},
   "outputs": [
    {
     "data": {
      "text/html": [
       "<style>#sk-container-id-1 {color: black;}#sk-container-id-1 pre{padding: 0;}#sk-container-id-1 div.sk-toggleable {background-color: white;}#sk-container-id-1 label.sk-toggleable__label {cursor: pointer;display: block;width: 100%;margin-bottom: 0;padding: 0.3em;box-sizing: border-box;text-align: center;}#sk-container-id-1 label.sk-toggleable__label-arrow:before {content: \"▸\";float: left;margin-right: 0.25em;color: #696969;}#sk-container-id-1 label.sk-toggleable__label-arrow:hover:before {color: black;}#sk-container-id-1 div.sk-estimator:hover label.sk-toggleable__label-arrow:before {color: black;}#sk-container-id-1 div.sk-toggleable__content {max-height: 0;max-width: 0;overflow: hidden;text-align: left;background-color: #f0f8ff;}#sk-container-id-1 div.sk-toggleable__content pre {margin: 0.2em;color: black;border-radius: 0.25em;background-color: #f0f8ff;}#sk-container-id-1 input.sk-toggleable__control:checked~div.sk-toggleable__content {max-height: 200px;max-width: 100%;overflow: auto;}#sk-container-id-1 input.sk-toggleable__control:checked~label.sk-toggleable__label-arrow:before {content: \"▾\";}#sk-container-id-1 div.sk-estimator input.sk-toggleable__control:checked~label.sk-toggleable__label {background-color: #d4ebff;}#sk-container-id-1 div.sk-label input.sk-toggleable__control:checked~label.sk-toggleable__label {background-color: #d4ebff;}#sk-container-id-1 input.sk-hidden--visually {border: 0;clip: rect(1px 1px 1px 1px);clip: rect(1px, 1px, 1px, 1px);height: 1px;margin: -1px;overflow: hidden;padding: 0;position: absolute;width: 1px;}#sk-container-id-1 div.sk-estimator {font-family: monospace;background-color: #f0f8ff;border: 1px dotted black;border-radius: 0.25em;box-sizing: border-box;margin-bottom: 0.5em;}#sk-container-id-1 div.sk-estimator:hover {background-color: #d4ebff;}#sk-container-id-1 div.sk-parallel-item::after {content: \"\";width: 100%;border-bottom: 1px solid gray;flex-grow: 1;}#sk-container-id-1 div.sk-label:hover label.sk-toggleable__label {background-color: #d4ebff;}#sk-container-id-1 div.sk-serial::before {content: \"\";position: absolute;border-left: 1px solid gray;box-sizing: border-box;top: 0;bottom: 0;left: 50%;z-index: 0;}#sk-container-id-1 div.sk-serial {display: flex;flex-direction: column;align-items: center;background-color: white;padding-right: 0.2em;padding-left: 0.2em;position: relative;}#sk-container-id-1 div.sk-item {position: relative;z-index: 1;}#sk-container-id-1 div.sk-parallel {display: flex;align-items: stretch;justify-content: center;background-color: white;position: relative;}#sk-container-id-1 div.sk-item::before, #sk-container-id-1 div.sk-parallel-item::before {content: \"\";position: absolute;border-left: 1px solid gray;box-sizing: border-box;top: 0;bottom: 0;left: 50%;z-index: -1;}#sk-container-id-1 div.sk-parallel-item {display: flex;flex-direction: column;z-index: 1;position: relative;background-color: white;}#sk-container-id-1 div.sk-parallel-item:first-child::after {align-self: flex-end;width: 50%;}#sk-container-id-1 div.sk-parallel-item:last-child::after {align-self: flex-start;width: 50%;}#sk-container-id-1 div.sk-parallel-item:only-child::after {width: 0;}#sk-container-id-1 div.sk-dashed-wrapped {border: 1px dashed gray;margin: 0 0.4em 0.5em 0.4em;box-sizing: border-box;padding-bottom: 0.4em;background-color: white;}#sk-container-id-1 div.sk-label label {font-family: monospace;font-weight: bold;display: inline-block;line-height: 1.2em;}#sk-container-id-1 div.sk-label-container {text-align: center;}#sk-container-id-1 div.sk-container {/* jupyter's `normalize.less` sets `[hidden] { display: none; }` but bootstrap.min.css set `[hidden] { display: none !important; }` so we also need the `!important` here to be able to override the default hidden behavior on the sphinx rendered scikit-learn.org. See: https://github.com/scikit-learn/scikit-learn/issues/21755 */display: inline-block !important;position: relative;}#sk-container-id-1 div.sk-text-repr-fallback {display: none;}</style><div id=\"sk-container-id-1\" class=\"sk-top-container\"><div class=\"sk-text-repr-fallback\"><pre>DecisionTreeClassifier()</pre><b>In a Jupyter environment, please rerun this cell to show the HTML representation or trust the notebook. <br />On GitHub, the HTML representation is unable to render, please try loading this page with nbviewer.org.</b></div><div class=\"sk-container\" hidden><div class=\"sk-item\"><div class=\"sk-estimator sk-toggleable\"><input class=\"sk-toggleable__control sk-hidden--visually\" id=\"sk-estimator-id-1\" type=\"checkbox\" checked><label for=\"sk-estimator-id-1\" class=\"sk-toggleable__label sk-toggleable__label-arrow\">DecisionTreeClassifier</label><div class=\"sk-toggleable__content\"><pre>DecisionTreeClassifier()</pre></div></div></div></div></div>"
      ],
      "text/plain": [
       "DecisionTreeClassifier()"
      ]
     },
     "execution_count": 45,
     "metadata": {},
     "output_type": "execute_result"
    }
   ],
   "source": [
    "classifier.fit(smote_X_train,smote_y_train)"
   ]
  },
  {
   "cell_type": "code",
   "execution_count": 62,
   "id": "7d7ca686-1cfc-417e-81a4-f5a83c4eb876",
   "metadata": {},
   "outputs": [],
   "source": [
    "CV_for_Decision_tree = cross_val_score(classifier,smote_X_train,smote_y_train,cv=k_fold, scoring='accuracy')\n"
   ]
  },
  {
   "cell_type": "code",
   "execution_count": 50,
   "id": "bdcf7895-e793-4108-a91e-a57c6557375e",
   "metadata": {},
   "outputs": [
    {
     "name": "stdout",
     "output_type": "stream",
     "text": [
      "Decision Tree Mean Accuracy: 0.7911214953271027\n"
     ]
    }
   ],
   "source": [
    "print(\"Decision Tree Mean Accuracy:\", CV_for_Decision_tree.mean())"
   ]
  },
  {
   "cell_type": "code",
   "execution_count": 51,
   "id": "5cabfb87-3c22-4f31-b012-6453965d0aa0",
   "metadata": {},
   "outputs": [
    {
     "data": {
      "text/plain": [
       "0.99797507788162"
      ]
     },
     "execution_count": 51,
     "metadata": {},
     "output_type": "execute_result"
    }
   ],
   "source": [
    "classifier.score(smote_X_train,smote_y_train)"
   ]
  },
  {
   "cell_type": "code",
   "execution_count": 52,
   "id": "40652974-0fb9-4b13-8a31-a6f79953a7d4",
   "metadata": {},
   "outputs": [],
   "source": [
    "clf=RandomForestClassifier(n_estimators=100,criterion='gini',random_state=0)"
   ]
  },
  {
   "cell_type": "code",
   "execution_count": 53,
   "id": "9476ad0a-e9e2-4cb2-bbb9-42ed680c92c0",
   "metadata": {},
   "outputs": [
    {
     "data": {
      "text/html": [
       "<style>#sk-container-id-2 {color: black;}#sk-container-id-2 pre{padding: 0;}#sk-container-id-2 div.sk-toggleable {background-color: white;}#sk-container-id-2 label.sk-toggleable__label {cursor: pointer;display: block;width: 100%;margin-bottom: 0;padding: 0.3em;box-sizing: border-box;text-align: center;}#sk-container-id-2 label.sk-toggleable__label-arrow:before {content: \"▸\";float: left;margin-right: 0.25em;color: #696969;}#sk-container-id-2 label.sk-toggleable__label-arrow:hover:before {color: black;}#sk-container-id-2 div.sk-estimator:hover label.sk-toggleable__label-arrow:before {color: black;}#sk-container-id-2 div.sk-toggleable__content {max-height: 0;max-width: 0;overflow: hidden;text-align: left;background-color: #f0f8ff;}#sk-container-id-2 div.sk-toggleable__content pre {margin: 0.2em;color: black;border-radius: 0.25em;background-color: #f0f8ff;}#sk-container-id-2 input.sk-toggleable__control:checked~div.sk-toggleable__content {max-height: 200px;max-width: 100%;overflow: auto;}#sk-container-id-2 input.sk-toggleable__control:checked~label.sk-toggleable__label-arrow:before {content: \"▾\";}#sk-container-id-2 div.sk-estimator input.sk-toggleable__control:checked~label.sk-toggleable__label {background-color: #d4ebff;}#sk-container-id-2 div.sk-label input.sk-toggleable__control:checked~label.sk-toggleable__label {background-color: #d4ebff;}#sk-container-id-2 input.sk-hidden--visually {border: 0;clip: rect(1px 1px 1px 1px);clip: rect(1px, 1px, 1px, 1px);height: 1px;margin: -1px;overflow: hidden;padding: 0;position: absolute;width: 1px;}#sk-container-id-2 div.sk-estimator {font-family: monospace;background-color: #f0f8ff;border: 1px dotted black;border-radius: 0.25em;box-sizing: border-box;margin-bottom: 0.5em;}#sk-container-id-2 div.sk-estimator:hover {background-color: #d4ebff;}#sk-container-id-2 div.sk-parallel-item::after {content: \"\";width: 100%;border-bottom: 1px solid gray;flex-grow: 1;}#sk-container-id-2 div.sk-label:hover label.sk-toggleable__label {background-color: #d4ebff;}#sk-container-id-2 div.sk-serial::before {content: \"\";position: absolute;border-left: 1px solid gray;box-sizing: border-box;top: 0;bottom: 0;left: 50%;z-index: 0;}#sk-container-id-2 div.sk-serial {display: flex;flex-direction: column;align-items: center;background-color: white;padding-right: 0.2em;padding-left: 0.2em;position: relative;}#sk-container-id-2 div.sk-item {position: relative;z-index: 1;}#sk-container-id-2 div.sk-parallel {display: flex;align-items: stretch;justify-content: center;background-color: white;position: relative;}#sk-container-id-2 div.sk-item::before, #sk-container-id-2 div.sk-parallel-item::before {content: \"\";position: absolute;border-left: 1px solid gray;box-sizing: border-box;top: 0;bottom: 0;left: 50%;z-index: -1;}#sk-container-id-2 div.sk-parallel-item {display: flex;flex-direction: column;z-index: 1;position: relative;background-color: white;}#sk-container-id-2 div.sk-parallel-item:first-child::after {align-self: flex-end;width: 50%;}#sk-container-id-2 div.sk-parallel-item:last-child::after {align-self: flex-start;width: 50%;}#sk-container-id-2 div.sk-parallel-item:only-child::after {width: 0;}#sk-container-id-2 div.sk-dashed-wrapped {border: 1px dashed gray;margin: 0 0.4em 0.5em 0.4em;box-sizing: border-box;padding-bottom: 0.4em;background-color: white;}#sk-container-id-2 div.sk-label label {font-family: monospace;font-weight: bold;display: inline-block;line-height: 1.2em;}#sk-container-id-2 div.sk-label-container {text-align: center;}#sk-container-id-2 div.sk-container {/* jupyter's `normalize.less` sets `[hidden] { display: none; }` but bootstrap.min.css set `[hidden] { display: none !important; }` so we also need the `!important` here to be able to override the default hidden behavior on the sphinx rendered scikit-learn.org. See: https://github.com/scikit-learn/scikit-learn/issues/21755 */display: inline-block !important;position: relative;}#sk-container-id-2 div.sk-text-repr-fallback {display: none;}</style><div id=\"sk-container-id-2\" class=\"sk-top-container\"><div class=\"sk-text-repr-fallback\"><pre>RandomForestClassifier(random_state=0)</pre><b>In a Jupyter environment, please rerun this cell to show the HTML representation or trust the notebook. <br />On GitHub, the HTML representation is unable to render, please try loading this page with nbviewer.org.</b></div><div class=\"sk-container\" hidden><div class=\"sk-item\"><div class=\"sk-estimator sk-toggleable\"><input class=\"sk-toggleable__control sk-hidden--visually\" id=\"sk-estimator-id-2\" type=\"checkbox\" checked><label for=\"sk-estimator-id-2\" class=\"sk-toggleable__label sk-toggleable__label-arrow\">RandomForestClassifier</label><div class=\"sk-toggleable__content\"><pre>RandomForestClassifier(random_state=0)</pre></div></div></div></div></div>"
      ],
      "text/plain": [
       "RandomForestClassifier(random_state=0)"
      ]
     },
     "execution_count": 53,
     "metadata": {},
     "output_type": "execute_result"
    }
   ],
   "source": [
    "clf.fit(smote_X_train,smote_y_train)"
   ]
  },
  {
   "cell_type": "code",
   "execution_count": 54,
   "id": "a68fd5bf-c228-4761-85d8-df66a9fae23d",
   "metadata": {},
   "outputs": [],
   "source": [
    "CV_for_Random_tree = cross_val_score(clf,smote_X_train,smote_y_train,cv=k_fold, scoring='accuracy')\n"
   ]
  },
  {
   "cell_type": "code",
   "execution_count": 55,
   "id": "3a42cd18-e7a7-4067-8860-7c1c1768c642",
   "metadata": {},
   "outputs": [
    {
     "name": "stdout",
     "output_type": "stream",
     "text": [
      "RANDOM FOREST Mean Accuracy: 0.8637071651090343\n"
     ]
    }
   ],
   "source": [
    "print(\"RANDOM FOREST Mean Accuracy:\", CV_for_Random_tree.mean())"
   ]
  },
  {
   "cell_type": "code",
   "execution_count": 56,
   "id": "5624fb13-3c5b-45ef-86dc-3b91cbc870dd",
   "metadata": {},
   "outputs": [
    {
     "data": {
      "text/plain": [
       "0.99797507788162"
      ]
     },
     "execution_count": 56,
     "metadata": {},
     "output_type": "execute_result"
    }
   ],
   "source": [
    "clf.score(smote_X_train,smote_y_train)"
   ]
  },
  {
   "cell_type": "code",
   "execution_count": 57,
   "id": "a8333308-91ce-4835-ba2d-d392b45c6c73",
   "metadata": {},
   "outputs": [],
   "source": [
    "from sklearn.svm import SVC"
   ]
  },
  {
   "cell_type": "code",
   "execution_count": 58,
   "id": "2a3075b1-6e7f-49b5-b141-f9c1876b5146",
   "metadata": {},
   "outputs": [],
   "source": [
    "model = SVC(kernel='rbf', C=1, gamma='scale')"
   ]
  },
  {
   "cell_type": "code",
   "execution_count": 59,
   "id": "069093bb-32bc-4b06-a6e9-bc658078e956",
   "metadata": {},
   "outputs": [
    {
     "data": {
      "text/html": [
       "<style>#sk-container-id-3 {color: black;}#sk-container-id-3 pre{padding: 0;}#sk-container-id-3 div.sk-toggleable {background-color: white;}#sk-container-id-3 label.sk-toggleable__label {cursor: pointer;display: block;width: 100%;margin-bottom: 0;padding: 0.3em;box-sizing: border-box;text-align: center;}#sk-container-id-3 label.sk-toggleable__label-arrow:before {content: \"▸\";float: left;margin-right: 0.25em;color: #696969;}#sk-container-id-3 label.sk-toggleable__label-arrow:hover:before {color: black;}#sk-container-id-3 div.sk-estimator:hover label.sk-toggleable__label-arrow:before {color: black;}#sk-container-id-3 div.sk-toggleable__content {max-height: 0;max-width: 0;overflow: hidden;text-align: left;background-color: #f0f8ff;}#sk-container-id-3 div.sk-toggleable__content pre {margin: 0.2em;color: black;border-radius: 0.25em;background-color: #f0f8ff;}#sk-container-id-3 input.sk-toggleable__control:checked~div.sk-toggleable__content {max-height: 200px;max-width: 100%;overflow: auto;}#sk-container-id-3 input.sk-toggleable__control:checked~label.sk-toggleable__label-arrow:before {content: \"▾\";}#sk-container-id-3 div.sk-estimator input.sk-toggleable__control:checked~label.sk-toggleable__label {background-color: #d4ebff;}#sk-container-id-3 div.sk-label input.sk-toggleable__control:checked~label.sk-toggleable__label {background-color: #d4ebff;}#sk-container-id-3 input.sk-hidden--visually {border: 0;clip: rect(1px 1px 1px 1px);clip: rect(1px, 1px, 1px, 1px);height: 1px;margin: -1px;overflow: hidden;padding: 0;position: absolute;width: 1px;}#sk-container-id-3 div.sk-estimator {font-family: monospace;background-color: #f0f8ff;border: 1px dotted black;border-radius: 0.25em;box-sizing: border-box;margin-bottom: 0.5em;}#sk-container-id-3 div.sk-estimator:hover {background-color: #d4ebff;}#sk-container-id-3 div.sk-parallel-item::after {content: \"\";width: 100%;border-bottom: 1px solid gray;flex-grow: 1;}#sk-container-id-3 div.sk-label:hover label.sk-toggleable__label {background-color: #d4ebff;}#sk-container-id-3 div.sk-serial::before {content: \"\";position: absolute;border-left: 1px solid gray;box-sizing: border-box;top: 0;bottom: 0;left: 50%;z-index: 0;}#sk-container-id-3 div.sk-serial {display: flex;flex-direction: column;align-items: center;background-color: white;padding-right: 0.2em;padding-left: 0.2em;position: relative;}#sk-container-id-3 div.sk-item {position: relative;z-index: 1;}#sk-container-id-3 div.sk-parallel {display: flex;align-items: stretch;justify-content: center;background-color: white;position: relative;}#sk-container-id-3 div.sk-item::before, #sk-container-id-3 div.sk-parallel-item::before {content: \"\";position: absolute;border-left: 1px solid gray;box-sizing: border-box;top: 0;bottom: 0;left: 50%;z-index: -1;}#sk-container-id-3 div.sk-parallel-item {display: flex;flex-direction: column;z-index: 1;position: relative;background-color: white;}#sk-container-id-3 div.sk-parallel-item:first-child::after {align-self: flex-end;width: 50%;}#sk-container-id-3 div.sk-parallel-item:last-child::after {align-self: flex-start;width: 50%;}#sk-container-id-3 div.sk-parallel-item:only-child::after {width: 0;}#sk-container-id-3 div.sk-dashed-wrapped {border: 1px dashed gray;margin: 0 0.4em 0.5em 0.4em;box-sizing: border-box;padding-bottom: 0.4em;background-color: white;}#sk-container-id-3 div.sk-label label {font-family: monospace;font-weight: bold;display: inline-block;line-height: 1.2em;}#sk-container-id-3 div.sk-label-container {text-align: center;}#sk-container-id-3 div.sk-container {/* jupyter's `normalize.less` sets `[hidden] { display: none; }` but bootstrap.min.css set `[hidden] { display: none !important; }` so we also need the `!important` here to be able to override the default hidden behavior on the sphinx rendered scikit-learn.org. See: https://github.com/scikit-learn/scikit-learn/issues/21755 */display: inline-block !important;position: relative;}#sk-container-id-3 div.sk-text-repr-fallback {display: none;}</style><div id=\"sk-container-id-3\" class=\"sk-top-container\"><div class=\"sk-text-repr-fallback\"><pre>SVC(C=1)</pre><b>In a Jupyter environment, please rerun this cell to show the HTML representation or trust the notebook. <br />On GitHub, the HTML representation is unable to render, please try loading this page with nbviewer.org.</b></div><div class=\"sk-container\" hidden><div class=\"sk-item\"><div class=\"sk-estimator sk-toggleable\"><input class=\"sk-toggleable__control sk-hidden--visually\" id=\"sk-estimator-id-3\" type=\"checkbox\" checked><label for=\"sk-estimator-id-3\" class=\"sk-toggleable__label sk-toggleable__label-arrow\">SVC</label><div class=\"sk-toggleable__content\"><pre>SVC(C=1)</pre></div></div></div></div></div>"
      ],
      "text/plain": [
       "SVC(C=1)"
      ]
     },
     "execution_count": 59,
     "metadata": {},
     "output_type": "execute_result"
    }
   ],
   "source": [
    "model.fit(smote_X_train,smote_y_train)\n"
   ]
  },
  {
   "cell_type": "code",
   "execution_count": 60,
   "id": "f562f9f9-aa0f-4bfe-bbb8-9ef3256f2bb0",
   "metadata": {},
   "outputs": [
    {
     "data": {
      "text/plain": [
       "0.9342679127725857"
      ]
     },
     "execution_count": 60,
     "metadata": {},
     "output_type": "execute_result"
    }
   ],
   "source": [
    "model.score(smote_X_train,smote_y_train)"
   ]
  },
  {
   "cell_type": "code",
   "execution_count": 63,
   "id": "7e7d4647-879d-466d-be25-bd28162bc14e",
   "metadata": {},
   "outputs": [],
   "source": [
    "from sklearn.naive_bayes import GaussianNB"
   ]
  },
  {
   "cell_type": "code",
   "execution_count": 64,
   "id": "4060ed96-f843-44a5-8a71-d4937de57efd",
   "metadata": {},
   "outputs": [],
   "source": [
    "model2 = GaussianNB()"
   ]
  },
  {
   "cell_type": "code",
   "execution_count": 65,
   "id": "98f75761-8003-4a51-ab62-d48e1ddf1381",
   "metadata": {},
   "outputs": [
    {
     "data": {
      "text/html": [
       "<style>#sk-container-id-4 {color: black;}#sk-container-id-4 pre{padding: 0;}#sk-container-id-4 div.sk-toggleable {background-color: white;}#sk-container-id-4 label.sk-toggleable__label {cursor: pointer;display: block;width: 100%;margin-bottom: 0;padding: 0.3em;box-sizing: border-box;text-align: center;}#sk-container-id-4 label.sk-toggleable__label-arrow:before {content: \"▸\";float: left;margin-right: 0.25em;color: #696969;}#sk-container-id-4 label.sk-toggleable__label-arrow:hover:before {color: black;}#sk-container-id-4 div.sk-estimator:hover label.sk-toggleable__label-arrow:before {color: black;}#sk-container-id-4 div.sk-toggleable__content {max-height: 0;max-width: 0;overflow: hidden;text-align: left;background-color: #f0f8ff;}#sk-container-id-4 div.sk-toggleable__content pre {margin: 0.2em;color: black;border-radius: 0.25em;background-color: #f0f8ff;}#sk-container-id-4 input.sk-toggleable__control:checked~div.sk-toggleable__content {max-height: 200px;max-width: 100%;overflow: auto;}#sk-container-id-4 input.sk-toggleable__control:checked~label.sk-toggleable__label-arrow:before {content: \"▾\";}#sk-container-id-4 div.sk-estimator input.sk-toggleable__control:checked~label.sk-toggleable__label {background-color: #d4ebff;}#sk-container-id-4 div.sk-label input.sk-toggleable__control:checked~label.sk-toggleable__label {background-color: #d4ebff;}#sk-container-id-4 input.sk-hidden--visually {border: 0;clip: rect(1px 1px 1px 1px);clip: rect(1px, 1px, 1px, 1px);height: 1px;margin: -1px;overflow: hidden;padding: 0;position: absolute;width: 1px;}#sk-container-id-4 div.sk-estimator {font-family: monospace;background-color: #f0f8ff;border: 1px dotted black;border-radius: 0.25em;box-sizing: border-box;margin-bottom: 0.5em;}#sk-container-id-4 div.sk-estimator:hover {background-color: #d4ebff;}#sk-container-id-4 div.sk-parallel-item::after {content: \"\";width: 100%;border-bottom: 1px solid gray;flex-grow: 1;}#sk-container-id-4 div.sk-label:hover label.sk-toggleable__label {background-color: #d4ebff;}#sk-container-id-4 div.sk-serial::before {content: \"\";position: absolute;border-left: 1px solid gray;box-sizing: border-box;top: 0;bottom: 0;left: 50%;z-index: 0;}#sk-container-id-4 div.sk-serial {display: flex;flex-direction: column;align-items: center;background-color: white;padding-right: 0.2em;padding-left: 0.2em;position: relative;}#sk-container-id-4 div.sk-item {position: relative;z-index: 1;}#sk-container-id-4 div.sk-parallel {display: flex;align-items: stretch;justify-content: center;background-color: white;position: relative;}#sk-container-id-4 div.sk-item::before, #sk-container-id-4 div.sk-parallel-item::before {content: \"\";position: absolute;border-left: 1px solid gray;box-sizing: border-box;top: 0;bottom: 0;left: 50%;z-index: -1;}#sk-container-id-4 div.sk-parallel-item {display: flex;flex-direction: column;z-index: 1;position: relative;background-color: white;}#sk-container-id-4 div.sk-parallel-item:first-child::after {align-self: flex-end;width: 50%;}#sk-container-id-4 div.sk-parallel-item:last-child::after {align-self: flex-start;width: 50%;}#sk-container-id-4 div.sk-parallel-item:only-child::after {width: 0;}#sk-container-id-4 div.sk-dashed-wrapped {border: 1px dashed gray;margin: 0 0.4em 0.5em 0.4em;box-sizing: border-box;padding-bottom: 0.4em;background-color: white;}#sk-container-id-4 div.sk-label label {font-family: monospace;font-weight: bold;display: inline-block;line-height: 1.2em;}#sk-container-id-4 div.sk-label-container {text-align: center;}#sk-container-id-4 div.sk-container {/* jupyter's `normalize.less` sets `[hidden] { display: none; }` but bootstrap.min.css set `[hidden] { display: none !important; }` so we also need the `!important` here to be able to override the default hidden behavior on the sphinx rendered scikit-learn.org. See: https://github.com/scikit-learn/scikit-learn/issues/21755 */display: inline-block !important;position: relative;}#sk-container-id-4 div.sk-text-repr-fallback {display: none;}</style><div id=\"sk-container-id-4\" class=\"sk-top-container\"><div class=\"sk-text-repr-fallback\"><pre>GaussianNB()</pre><b>In a Jupyter environment, please rerun this cell to show the HTML representation or trust the notebook. <br />On GitHub, the HTML representation is unable to render, please try loading this page with nbviewer.org.</b></div><div class=\"sk-container\" hidden><div class=\"sk-item\"><div class=\"sk-estimator sk-toggleable\"><input class=\"sk-toggleable__control sk-hidden--visually\" id=\"sk-estimator-id-4\" type=\"checkbox\" checked><label for=\"sk-estimator-id-4\" class=\"sk-toggleable__label sk-toggleable__label-arrow\">GaussianNB</label><div class=\"sk-toggleable__content\"><pre>GaussianNB()</pre></div></div></div></div></div>"
      ],
      "text/plain": [
       "GaussianNB()"
      ]
     },
     "execution_count": 65,
     "metadata": {},
     "output_type": "execute_result"
    }
   ],
   "source": [
    "model2.fit(smote_X_train,smote_y_train)"
   ]
  },
  {
   "cell_type": "code",
   "execution_count": 66,
   "id": "8c663480-9d92-48a7-b3fd-320ffd29dd9c",
   "metadata": {},
   "outputs": [
    {
     "data": {
      "text/plain": [
       "0.6691588785046729"
      ]
     },
     "execution_count": 66,
     "metadata": {},
     "output_type": "execute_result"
    }
   ],
   "source": [
    "model2.score(smote_X_train,smote_y_train)"
   ]
  },
  {
   "cell_type": "code",
   "execution_count": 67,
   "id": "c847e454-e38f-4e39-857d-81767531c2d5",
   "metadata": {},
   "outputs": [],
   "source": [
    "from sklearn import linear_model"
   ]
  },
  {
   "cell_type": "code",
   "execution_count": 68,
   "id": "5975b67b-da5f-4ca4-bed4-a9d89af21020",
   "metadata": {},
   "outputs": [],
   "source": [
    "reg = linear_model.LinearRegression()\n"
   ]
  },
  {
   "cell_type": "code",
   "execution_count": 69,
   "id": "3fc2a66a-9ea0-4bcb-8bd5-5075b8c21786",
   "metadata": {},
   "outputs": [
    {
     "data": {
      "text/html": [
       "<style>#sk-container-id-5 {color: black;}#sk-container-id-5 pre{padding: 0;}#sk-container-id-5 div.sk-toggleable {background-color: white;}#sk-container-id-5 label.sk-toggleable__label {cursor: pointer;display: block;width: 100%;margin-bottom: 0;padding: 0.3em;box-sizing: border-box;text-align: center;}#sk-container-id-5 label.sk-toggleable__label-arrow:before {content: \"▸\";float: left;margin-right: 0.25em;color: #696969;}#sk-container-id-5 label.sk-toggleable__label-arrow:hover:before {color: black;}#sk-container-id-5 div.sk-estimator:hover label.sk-toggleable__label-arrow:before {color: black;}#sk-container-id-5 div.sk-toggleable__content {max-height: 0;max-width: 0;overflow: hidden;text-align: left;background-color: #f0f8ff;}#sk-container-id-5 div.sk-toggleable__content pre {margin: 0.2em;color: black;border-radius: 0.25em;background-color: #f0f8ff;}#sk-container-id-5 input.sk-toggleable__control:checked~div.sk-toggleable__content {max-height: 200px;max-width: 100%;overflow: auto;}#sk-container-id-5 input.sk-toggleable__control:checked~label.sk-toggleable__label-arrow:before {content: \"▾\";}#sk-container-id-5 div.sk-estimator input.sk-toggleable__control:checked~label.sk-toggleable__label {background-color: #d4ebff;}#sk-container-id-5 div.sk-label input.sk-toggleable__control:checked~label.sk-toggleable__label {background-color: #d4ebff;}#sk-container-id-5 input.sk-hidden--visually {border: 0;clip: rect(1px 1px 1px 1px);clip: rect(1px, 1px, 1px, 1px);height: 1px;margin: -1px;overflow: hidden;padding: 0;position: absolute;width: 1px;}#sk-container-id-5 div.sk-estimator {font-family: monospace;background-color: #f0f8ff;border: 1px dotted black;border-radius: 0.25em;box-sizing: border-box;margin-bottom: 0.5em;}#sk-container-id-5 div.sk-estimator:hover {background-color: #d4ebff;}#sk-container-id-5 div.sk-parallel-item::after {content: \"\";width: 100%;border-bottom: 1px solid gray;flex-grow: 1;}#sk-container-id-5 div.sk-label:hover label.sk-toggleable__label {background-color: #d4ebff;}#sk-container-id-5 div.sk-serial::before {content: \"\";position: absolute;border-left: 1px solid gray;box-sizing: border-box;top: 0;bottom: 0;left: 50%;z-index: 0;}#sk-container-id-5 div.sk-serial {display: flex;flex-direction: column;align-items: center;background-color: white;padding-right: 0.2em;padding-left: 0.2em;position: relative;}#sk-container-id-5 div.sk-item {position: relative;z-index: 1;}#sk-container-id-5 div.sk-parallel {display: flex;align-items: stretch;justify-content: center;background-color: white;position: relative;}#sk-container-id-5 div.sk-item::before, #sk-container-id-5 div.sk-parallel-item::before {content: \"\";position: absolute;border-left: 1px solid gray;box-sizing: border-box;top: 0;bottom: 0;left: 50%;z-index: -1;}#sk-container-id-5 div.sk-parallel-item {display: flex;flex-direction: column;z-index: 1;position: relative;background-color: white;}#sk-container-id-5 div.sk-parallel-item:first-child::after {align-self: flex-end;width: 50%;}#sk-container-id-5 div.sk-parallel-item:last-child::after {align-self: flex-start;width: 50%;}#sk-container-id-5 div.sk-parallel-item:only-child::after {width: 0;}#sk-container-id-5 div.sk-dashed-wrapped {border: 1px dashed gray;margin: 0 0.4em 0.5em 0.4em;box-sizing: border-box;padding-bottom: 0.4em;background-color: white;}#sk-container-id-5 div.sk-label label {font-family: monospace;font-weight: bold;display: inline-block;line-height: 1.2em;}#sk-container-id-5 div.sk-label-container {text-align: center;}#sk-container-id-5 div.sk-container {/* jupyter's `normalize.less` sets `[hidden] { display: none; }` but bootstrap.min.css set `[hidden] { display: none !important; }` so we also need the `!important` here to be able to override the default hidden behavior on the sphinx rendered scikit-learn.org. See: https://github.com/scikit-learn/scikit-learn/issues/21755 */display: inline-block !important;position: relative;}#sk-container-id-5 div.sk-text-repr-fallback {display: none;}</style><div id=\"sk-container-id-5\" class=\"sk-top-container\"><div class=\"sk-text-repr-fallback\"><pre>LinearRegression()</pre><b>In a Jupyter environment, please rerun this cell to show the HTML representation or trust the notebook. <br />On GitHub, the HTML representation is unable to render, please try loading this page with nbviewer.org.</b></div><div class=\"sk-container\" hidden><div class=\"sk-item\"><div class=\"sk-estimator sk-toggleable\"><input class=\"sk-toggleable__control sk-hidden--visually\" id=\"sk-estimator-id-5\" type=\"checkbox\" checked><label for=\"sk-estimator-id-5\" class=\"sk-toggleable__label sk-toggleable__label-arrow\">LinearRegression</label><div class=\"sk-toggleable__content\"><pre>LinearRegression()</pre></div></div></div></div></div>"
      ],
      "text/plain": [
       "LinearRegression()"
      ]
     },
     "execution_count": 69,
     "metadata": {},
     "output_type": "execute_result"
    }
   ],
   "source": [
    "reg.fit(smote_X_train,smote_y_train)"
   ]
  },
  {
   "cell_type": "code",
   "execution_count": 70,
   "id": "4f55136a-6a20-4043-9f24-6f9030b7a358",
   "metadata": {},
   "outputs": [
    {
     "data": {
      "text/plain": [
       "0.7121603767661389"
      ]
     },
     "execution_count": 70,
     "metadata": {},
     "output_type": "execute_result"
    }
   ],
   "source": [
    "reg.score(smote_X_train,smote_y_train)"
   ]
  },
  {
   "cell_type": "code",
   "execution_count": 74,
   "id": "a0aab60a-0c28-464f-96c0-c96e408ae07f",
   "metadata": {},
   "outputs": [],
   "source": [
    "y_pred=reg.predict(X_test)"
   ]
  },
  {
   "cell_type": "code",
   "execution_count": 75,
   "id": "da1528ae-7f3e-4332-a4f2-bf0ec7c6ef2d",
   "metadata": {},
   "outputs": [],
   "source": [
    "from mpl_toolkits.mplot3d import Axes3D\n"
   ]
  },
  {
   "cell_type": "code",
   "execution_count": 76,
   "id": "058f7a84-7a3a-4c02-810a-365555bbf5c9",
   "metadata": {},
   "outputs": [
    {
     "data": {
      "image/png": "[encoded data removed]",
      "text/plain": [
       "<Figure size 800x600 with 1 Axes>"
      ]
     },
     "metadata": {},
     "output_type": "display_data"
    }
   ],
   "source": [
    "fig = plt.figure(figsize=(8, 6))\n",
    "ax = fig.add_subplot(111, projection='3d')\n",
    "\n",
    "ax.scatter(X_test[:, 0], X_test[:, 1], Y_test, color='black', label='Actual data', marker='o')\n",
    "ax.plot(X_test[:, 0], X_test[:, 1], y_pred, color='blue', label='Linear regression prediction', marker='^')\n",
    "\n",
    "ax.set_xlabel('X1')\n",
    "ax.set_ylabel('X2')\n",
    "ax.set_zlabel('y')\n",
    "ax.set_title('Linear Regression 3D Example')\n",
    "ax.legend()\n",
    "\n",
    "plt.show()"
   ]
  },
  {
   "cell_type": "code",
   "execution_count": 77,
   "id": "86265b39-cc4d-4eda-9b48-a27a1a1ac7ec",
   "metadata": {},
   "outputs": [
    {
     "data": {
      "image/png": "[encoded data removed]",
      "text/plain": [
       "<Figure size 640x480 with 1 Axes>"
      ]
     },
     "metadata": {},
     "output_type": "display_data"
    }
   ],
   "source": [
    "chosen_feature = X_test[:, 1]\n",
    "y_pred = reg.predict(X_test)\n",
    "plt.scatter(chosen_feature, Y_test, color='black', label='Actual data')\n",
    "plt.plot(chosen_feature, y_pred, color='blue', label='Linear regression prediction')\n",
    "plt.xlabel('Chosen Feature ')\n",
    "plt.ylabel('y')\n",
    "plt.title('Linear Regression Example')\n",
    "plt.legend()\n",
    "plt.show()"
   ]
  },
  {
   "cell_type": "code",
   "execution_count": 78,
   "id": "372e29c7-89a5-4327-a8bb-ca16f0e1e2b4",
   "metadata": {},
   "outputs": [],
   "source": [
    "from sklearn.linear_model import LogisticRegression\n",
    "model3 = LogisticRegression()\n"
   ]
  },
  {
   "cell_type": "code",
   "execution_count": 79,
   "id": "6246a846-eca3-4ef2-88cb-99f18cee8b8b",
   "metadata": {},
   "outputs": [
    {
     "name": "stderr",
     "output_type": "stream",
     "text": [
      "C:\\Users\\sgoff\\AppData\\Local\\Programs\\Python\\Python312\\Lib\\site-packages\\sklearn\\linear_model\\_logistic.py:460: ConvergenceWarning: lbfgs failed to converge (status=1):\n",
      "STOP: TOTAL NO. of ITERATIONS REACHED LIMIT.\n",
      "\n",
      "Increase the number of iterations (max_iter) or scale the data as shown in:\n",
      "    https://scikit-learn.org/stable/modules/preprocessing.html\n",
      "Please also refer to the documentation for alternative solver options:\n",
      "    https://scikit-learn.org/stable/modules/linear_model.html#logistic-regression\n",
      "  n_iter_i = _check_optimize_result(\n"
     ]
    },
    {
     "data": {
      "text/html": [
       "<style>#sk-container-id-6 {color: black;}#sk-container-id-6 pre{padding: 0;}#sk-container-id-6 div.sk-toggleable {background-color: white;}#sk-container-id-6 label.sk-toggleable__label {cursor: pointer;display: block;width: 100%;margin-bottom: 0;padding: 0.3em;box-sizing: border-box;text-align: center;}#sk-container-id-6 label.sk-toggleable__label-arrow:before {content: \"▸\";float: left;margin-right: 0.25em;color: #696969;}#sk-container-id-6 label.sk-toggleable__label-arrow:hover:before {color: black;}#sk-container-id-6 div.sk-estimator:hover label.sk-toggleable__label-arrow:before {color: black;}#sk-container-id-6 div.sk-toggleable__content {max-height: 0;max-width: 0;overflow: hidden;text-align: left;background-color: #f0f8ff;}#sk-container-id-6 div.sk-toggleable__content pre {margin: 0.2em;color: black;border-radius: 0.25em;background-color: #f0f8ff;}#sk-container-id-6 input.sk-toggleable__control:checked~div.sk-toggleable__content {max-height: 200px;max-width: 100%;overflow: auto;}#sk-container-id-6 input.sk-toggleable__control:checked~label.sk-toggleable__label-arrow:before {content: \"▾\";}#sk-container-id-6 div.sk-estimator input.sk-toggleable__control:checked~label.sk-toggleable__label {background-color: #d4ebff;}#sk-container-id-6 div.sk-label input.sk-toggleable__control:checked~label.sk-toggleable__label {background-color: #d4ebff;}#sk-container-id-6 input.sk-hidden--visually {border: 0;clip: rect(1px 1px 1px 1px);clip: rect(1px, 1px, 1px, 1px);height: 1px;margin: -1px;overflow: hidden;padding: 0;position: absolute;width: 1px;}#sk-container-id-6 div.sk-estimator {font-family: monospace;background-color: #f0f8ff;border: 1px dotted black;border-radius: 0.25em;box-sizing: border-box;margin-bottom: 0.5em;}#sk-container-id-6 div.sk-estimator:hover {background-color: #d4ebff;}#sk-container-id-6 div.sk-parallel-item::after {content: \"\";width: 100%;border-bottom: 1px solid gray;flex-grow: 1;}#sk-container-id-6 div.sk-label:hover label.sk-toggleable__label {background-color: #d4ebff;}#sk-container-id-6 div.sk-serial::before {content: \"\";position: absolute;border-left: 1px solid gray;box-sizing: border-box;top: 0;bottom: 0;left: 50%;z-index: 0;}#sk-container-id-6 div.sk-serial {display: flex;flex-direction: column;align-items: center;background-color: white;padding-right: 0.2em;padding-left: 0.2em;position: relative;}#sk-container-id-6 div.sk-item {position: relative;z-index: 1;}#sk-container-id-6 div.sk-parallel {display: flex;align-items: stretch;justify-content: center;background-color: white;position: relative;}#sk-container-id-6 div.sk-item::before, #sk-container-id-6 div.sk-parallel-item::before {content: \"\";position: absolute;border-left: 1px solid gray;box-sizing: border-box;top: 0;bottom: 0;left: 50%;z-index: -1;}#sk-container-id-6 div.sk-parallel-item {display: flex;flex-direction: column;z-index: 1;position: relative;background-color: white;}#sk-container-id-6 div.sk-parallel-item:first-child::after {align-self: flex-end;width: 50%;}#sk-container-id-6 div.sk-parallel-item:last-child::after {align-self: flex-start;width: 50%;}#sk-container-id-6 div.sk-parallel-item:only-child::after {width: 0;}#sk-container-id-6 div.sk-dashed-wrapped {border: 1px dashed gray;margin: 0 0.4em 0.5em 0.4em;box-sizing: border-box;padding-bottom: 0.4em;background-color: white;}#sk-container-id-6 div.sk-label label {font-family: monospace;font-weight: bold;display: inline-block;line-height: 1.2em;}#sk-container-id-6 div.sk-label-container {text-align: center;}#sk-container-id-6 div.sk-container {/* jupyter's `normalize.less` sets `[hidden] { display: none; }` but bootstrap.min.css set `[hidden] { display: none !important; }` so we also need the `!important` here to be able to override the default hidden behavior on the sphinx rendered scikit-learn.org. See: https://github.com/scikit-learn/scikit-learn/issues/21755 */display: inline-block !important;position: relative;}#sk-container-id-6 div.sk-text-repr-fallback {display: none;}</style><div id=\"sk-container-id-6\" class=\"sk-top-container\"><div class=\"sk-text-repr-fallback\"><pre>LogisticRegression()</pre><b>In a Jupyter environment, please rerun this cell to show the HTML representation or trust the notebook. <br />On GitHub, the HTML representation is unable to render, please try loading this page with nbviewer.org.</b></div><div class=\"sk-container\" hidden><div class=\"sk-item\"><div class=\"sk-estimator sk-toggleable\"><input class=\"sk-toggleable__control sk-hidden--visually\" id=\"sk-estimator-id-6\" type=\"checkbox\" checked><label for=\"sk-estimator-id-6\" class=\"sk-toggleable__label sk-toggleable__label-arrow\">LogisticRegression</label><div class=\"sk-toggleable__content\"><pre>LogisticRegression()</pre></div></div></div></div></div>"
      ],
      "text/plain": [
       "LogisticRegression()"
      ]
     },
     "execution_count": 79,
     "metadata": {},
     "output_type": "execute_result"
    }
   ],
   "source": [
    "model3.fit(smote_X_train,smote_y_train)\n"
   ]
  },
  {
   "cell_type": "code",
   "execution_count": 80,
   "id": "356ade25-f62f-4033-97e9-f6d450b6847c",
   "metadata": {},
   "outputs": [
    {
     "data": {
      "text/plain": [
       "0.9171339563862928"
      ]
     },
     "execution_count": 80,
     "metadata": {},
     "output_type": "execute_result"
    }
   ],
   "source": [
    "model3.score(smote_X_train,smote_y_train)"
   ]
  },
  {
   "cell_type": "code",
   "execution_count": 82,
   "id": "94438baa-d585-46f9-8481-0077c1176351",
   "metadata": {},
   "outputs": [
    {
     "name": "stdout",
     "output_type": "stream",
     "text": [
      "Collecting ipympl\n",
      "  Downloading ipympl-0.9.3-py2.py3-none-any.whl (511 kB)\n",
      "     ---------------------------------------- 0.0/511.6 kB ? eta -:--:--\n",
      "      --------------------------------------- 10.2/511.6 kB ? eta -:--:--\n",
      "     -- ---------------------------------- 30.7/511.6 kB 435.7 kB/s eta 0:00:02\n",
      "     ----------- -------------------------- 153.6/511.6 kB 1.1 MB/s eta 0:00:01\n",
      "     -------------------------------------- 511.6/511.6 kB 3.2 MB/s eta 0:00:00\n",
      "Requirement already satisfied: ipython<9 in c:\\users\\sgoff\\appdata\\local\\programs\\python\\python312\\lib\\site-packages (from ipympl) (8.17.2)\n",
      "Requirement already satisfied: numpy in c:\\users\\sgoff\\appdata\\local\\programs\\python\\python312\\lib\\site-packages (from ipympl) (1.26.2)\n",
      "Collecting ipython-genutils (from ipympl)\n",
      "  Downloading ipython_genutils-0.2.0-py2.py3-none-any.whl (26 kB)\n",
      "Requirement already satisfied: pillow in c:\\users\\sgoff\\appdata\\local\\programs\\python\\python312\\lib\\site-packages (from ipympl) (10.1.0)\n",
      "Requirement already satisfied: traitlets<6 in c:\\users\\sgoff\\appdata\\local\\programs\\python\\python312\\lib\\site-packages (from ipympl) (5.13.0)\n",
      "Requirement already satisfied: ipywidgets<9,>=7.6.0 in c:\\users\\sgoff\\appdata\\local\\programs\\python\\python312\\lib\\site-packages (from ipympl) (8.1.1)\n",
      "Requirement already satisfied: matplotlib<4,>=3.4.0 in c:\\users\\sgoff\\appdata\\local\\programs\\python\\python312\\lib\\site-packages (from ipympl) (3.8.1)\n",
      "Requirement already satisfied: decorator in c:\\users\\sgoff\\appdata\\local\\programs\\python\\python312\\lib\\site-packages (from ipython<9->ipympl) (5.1.1)\n",
      "Requirement already satisfied: jedi>=0.16 in c:\\users\\sgoff\\appdata\\local\\programs\\python\\python312\\lib\\site-packages (from ipython<9->ipympl) (0.19.1)\n",
      "Requirement already satisfied: matplotlib-inline in c:\\users\\sgoff\\appdata\\local\\programs\\python\\python312\\lib\\site-packages (from ipython<9->ipympl) (0.1.6)\n",
      "Requirement already satisfied: prompt-toolkit!=3.0.37,<3.1.0,>=3.0.30 in c:\\users\\sgoff\\appdata\\local\\programs\\python\\python312\\lib\\site-packages (from ipython<9->ipympl) (3.0.41)\n",
      "Requirement already satisfied: pygments>=2.4.0 in c:\\users\\sgoff\\appdata\\local\\programs\\python\\python312\\lib\\site-packages (from ipython<9->ipympl) (2.16.1)\n",
      "Requirement already satisfied: stack-data in c:\\users\\sgoff\\appdata\\local\\programs\\python\\python312\\lib\\site-packages (from ipython<9->ipympl) (0.6.3)\n",
      "Requirement already satisfied: colorama in c:\\users\\sgoff\\appdata\\local\\programs\\python\\python312\\lib\\site-packages (from ipython<9->ipympl) (0.4.6)\n",
      "Requirement already satisfied: comm>=0.1.3 in c:\\users\\sgoff\\appdata\\local\\programs\\python\\python312\\lib\\site-packages (from ipywidgets<9,>=7.6.0->ipympl) (0.2.0)\n",
      "Requirement already satisfied: widgetsnbextension~=4.0.9 in c:\\users\\sgoff\\appdata\\local\\programs\\python\\python312\\lib\\site-packages (from ipywidgets<9,>=7.6.0->ipympl) (4.0.9)\n",
      "Requirement already satisfied: jupyterlab-widgets~=3.0.9 in c:\\users\\sgoff\\appdata\\local\\programs\\python\\python312\\lib\\site-packages (from ipywidgets<9,>=7.6.0->ipympl) (3.0.9)\n",
      "Requirement already satisfied: contourpy>=1.0.1 in c:\\users\\sgoff\\appdata\\local\\programs\\python\\python312\\lib\\site-packages (from matplotlib<4,>=3.4.0->ipympl) (1.2.0)\n",
      "Requirement already satisfied: cycler>=0.10 in c:\\users\\sgoff\\appdata\\local\\programs\\python\\python312\\lib\\site-packages (from matplotlib<4,>=3.4.0->ipympl) (0.12.1)\n",
      "Requirement already satisfied: fonttools>=4.22.0 in c:\\users\\sgoff\\appdata\\local\\programs\\python\\python312\\lib\\site-packages (from matplotlib<4,>=3.4.0->ipympl) (4.44.3)\n",
      "Requirement already satisfied: kiwisolver>=1.3.1 in c:\\users\\sgoff\\appdata\\local\\programs\\python\\python312\\lib\\site-packages (from matplotlib<4,>=3.4.0->ipympl) (1.4.5)\n",
      "Requirement already satisfied: packaging>=20.0 in c:\\users\\sgoff\\appdata\\local\\programs\\python\\python312\\lib\\site-packages (from matplotlib<4,>=3.4.0->ipympl) (23.2)\n",
      "Requirement already satisfied: pyparsing>=2.3.1 in c:\\users\\sgoff\\appdata\\local\\programs\\python\\python312\\lib\\site-packages (from matplotlib<4,>=3.4.0->ipympl) (3.1.1)\n",
      "Requirement already satisfied: python-dateutil>=2.7 in c:\\users\\sgoff\\appdata\\local\\programs\\python\\python312\\lib\\site-packages (from matplotlib<4,>=3.4.0->ipympl) (2.8.2)\n",
      "Requirement already satisfied: parso<0.9.0,>=0.8.3 in c:\\users\\sgoff\\appdata\\local\\programs\\python\\python312\\lib\\site-packages (from jedi>=0.16->ipython<9->ipympl) (0.8.3)\n",
      "Requirement already satisfied: wcwidth in c:\\users\\sgoff\\appdata\\local\\programs\\python\\python312\\lib\\site-packages (from prompt-toolkit!=3.0.37,<3.1.0,>=3.0.30->ipython<9->ipympl) (0.2.10)\n",
      "Requirement already satisfied: six>=1.5 in c:\\users\\sgoff\\appdata\\local\\programs\\python\\python312\\lib\\site-packages (from python-dateutil>=2.7->matplotlib<4,>=3.4.0->ipympl) (1.16.0)\n",
      "Requirement already satisfied: executing>=1.2.0 in c:\\users\\sgoff\\appdata\\local\\programs\\python\\python312\\lib\\site-packages (from stack-data->ipython<9->ipympl) (2.0.1)\n",
      "Requirement already satisfied: asttokens>=2.1.0 in c:\\users\\sgoff\\appdata\\local\\programs\\python\\python312\\lib\\site-packages (from stack-data->ipython<9->ipympl) (2.4.1)\n",
      "Requirement already satisfied: pure-eval in c:\\users\\sgoff\\appdata\\local\\programs\\python\\python312\\lib\\site-packages (from stack-data->ipython<9->ipympl) (0.2.2)\n",
      "Installing collected packages: ipython-genutils, ipympl\n",
      "Successfully installed ipympl-0.9.3 ipython-genutils-0.2.0\n"
     ]
    }
   ],
   "source": [
    "!pip install ipympl\n"
   ]
  },
  {
   "cell_type": "code",
   "execution_count": 83,
   "id": "b3aaaa62-667f-4e1f-93f9-e08cdc8bfc52",
   "metadata": {},
   "outputs": [],
   "source": [
    "%matplotlib widget"
   ]
  },
  {
   "cell_type": "code",
   "execution_count": 85,
   "id": "03b88a26-4d02-43d5-bcda-0a59fcca499b",
   "metadata": {},
   "outputs": [],
   "source": [
    "import matplotlib.pyplot as plt "
   ]
  },
  {
   "cell_type": "code",
   "execution_count": 116,
   "id": "0779bed2-1d43-418b-9c76-7ec4ad8aac47",
   "metadata": {},
   "outputs": [],
   "source": [
    "import copy, math,os\n",
    "import numpy as np\n",
    "import matplotlib.pyplot as plt\n",
    "#plt.style.use('./deeplearning.mplstyle')\n",
    "np.set_printoptions(precision=2)  # reduced display precision on numpy arrays"
   ]
  },
  {
   "cell_type": "code",
   "execution_count": 120,
   "id": "a1810441-cb3f-445f-9e35-5ef91d897e07",
   "metadata": {},
   "outputs": [
    {
     "name": "stdout",
     "output_type": "stream",
     "text": [
      "X Shape: (6400, 1613), X Type:<class 'numpy.ndarray'>)\n",
      "[[ 0.    0.   -0.37 ...  1.72  0.79  0.41]\n",
      " [ 0.    0.   -0.37 ... -1.77 -1.48 -1.39]\n",
      " [ 0.    0.   -0.37 ...  0.53  0.3   0.1 ]\n",
      " ...\n",
      " [ 0.    0.   -0.37 ...  1.08  0.81  1.21]\n",
      " [ 0.    0.   -0.37 ...  0.71  0.43  0.78]\n",
      " [ 0.    0.   -0.37 ...  0.57  1.09  0.68]]\n",
      "y Shape: (6400,), Y Type:<class 'numpy.ndarray'>)\n",
      "[1 0 0 ... 1 1 1]\n"
     ]
    }
   ],
   "source": [
    "# data is stored in numpy array/matrix\n",
    "print(f\"X Shape: {X_train.shape}, X Type:{type(X_train)})\")\n",
    "print(X_train)\n",
    "print(f\"y Shape: {Y_train.shape}, Y Type:{type(Y_train)})\")\n",
    "print(Y_train)"
   ]
  },
  {
   "cell_type": "code",
   "execution_count": 121,
   "id": "551c79da-c288-4b16-a6ec-d629533caa85",
   "metadata": {},
   "outputs": [
    {
     "name": "stdout",
     "output_type": "stream",
     "text": [
      "w_init shape: (4,), b_init type: <class 'float'>\n"
     ]
    }
   ],
   "source": [
    "b_init = 785.1811367994083\n",
    "w_init = np.array([ 0.39133535, 18.75376741, -53.36032453, -26.42131618])\n",
    "print(f\"w_init shape: {w_init.shape}, b_init type: {type(b_init)}\")"
   ]
  },
  {
   "cell_type": "code",
   "execution_count": 126,
   "id": "65fea236-9cd4-49a8-8a08-95b086e87552",
   "metadata": {},
   "outputs": [],
   "source": [
    "def predict_single_loop(x, w, b):\n",
    "    \"\"\"\n",
    "    Make a prediction using a simple linear model with a loop.\n",
    "\n",
    "    Args:\n",
    "    x (ndarray): Input vector with shape (n,)\n",
    "    w (ndarray): Weight vector with shape (n,)\n",
    "    b (scalar): Bias term\n",
    "\n",
    "    Returns:\n",
    "    prediction (scalar): Model prediction\n",
    "    \"\"\"\n",
    "    n = len(x)\n",
    "    p = 0\n",
    "    for i in range(n):\n",
    "        p += x[i] * w[i]\n",
    "    p += b\n",
    "    return p\n"
   ]
  },
  {
   "cell_type": "code",
   "execution_count": 128,
   "id": "ccf6e63c-e6cd-4754-b60a-96934e11c1d6",
   "metadata": {},
   "outputs": [
    {
     "name": "stdout",
     "output_type": "stream",
     "text": [
      "x_vec shape: (1613,), x_vec values: [ 0.    0.   -0.37 ...  1.72  0.79  0.41]\n",
      "w_init shape: (4,), w_init values: [  0.39  18.75 -53.36 -26.42]\n"
     ]
    }
   ],
   "source": [
    "print(f\"x_vec shape: {x_vec.shape}, x_vec values: {x_vec}\")\n",
    "print(f\"w_init shape: {w_init.shape}, w_init values: {w_init}\")\n"
   ]
  },
  {
   "cell_type": "code",
   "execution_count": 127,
   "id": "34e5df81-0b03-4279-ae97-a6c9ce27ae62",
   "metadata": {},
   "outputs": [
    {
     "name": "stdout",
     "output_type": "stream",
     "text": [
      "x_vec shape (1613,), x_vec value: [ 0.    0.   -0.37 ...  1.72  0.79  0.41]\n"
     ]
    },
    {
     "ename": "IndexError",
     "evalue": "index 4 is out of bounds for axis 0 with size 4",
     "output_type": "error",
     "traceback": [
      "\u001b[1;31m---------------------------------------------------------------------------\u001b[0m",
      "\u001b[1;31mIndexError\u001b[0m                                Traceback (most recent call last)",
      "Cell \u001b[1;32mIn[127], line 6\u001b[0m\n\u001b[0;32m      3\u001b[0m \u001b[38;5;28mprint\u001b[39m(\u001b[38;5;124mf\u001b[39m\u001b[38;5;124m\"\u001b[39m\u001b[38;5;124mx_vec shape \u001b[39m\u001b[38;5;132;01m{\u001b[39;00mx_vec\u001b[38;5;241m.\u001b[39mshape\u001b[38;5;132;01m}\u001b[39;00m\u001b[38;5;124m, x_vec value: \u001b[39m\u001b[38;5;132;01m{\u001b[39;00mx_vec\u001b[38;5;132;01m}\u001b[39;00m\u001b[38;5;124m\"\u001b[39m)\n\u001b[0;32m      5\u001b[0m \u001b[38;5;66;03m# make a prediction\u001b[39;00m\n\u001b[1;32m----> 6\u001b[0m f_wb \u001b[38;5;241m=\u001b[39m \u001b[43mpredict_single_loop\u001b[49m\u001b[43m(\u001b[49m\u001b[43mx_vec\u001b[49m\u001b[43m,\u001b[49m\u001b[43m \u001b[49m\u001b[43mw_init\u001b[49m\u001b[43m,\u001b[49m\u001b[43m \u001b[49m\u001b[43mb_init\u001b[49m\u001b[43m)\u001b[49m\n\u001b[0;32m      7\u001b[0m \u001b[38;5;28mprint\u001b[39m(\u001b[38;5;124mf\u001b[39m\u001b[38;5;124m\"\u001b[39m\u001b[38;5;124mf_wb shape \u001b[39m\u001b[38;5;132;01m{\u001b[39;00mf_wb\u001b[38;5;241m.\u001b[39mshape\u001b[38;5;132;01m}\u001b[39;00m\u001b[38;5;124m, prediction: \u001b[39m\u001b[38;5;132;01m{\u001b[39;00mf_wb\u001b[38;5;132;01m}\u001b[39;00m\u001b[38;5;124m\"\u001b[39m)\n",
      "Cell \u001b[1;32mIn[126], line 16\u001b[0m, in \u001b[0;36mpredict_single_loop\u001b[1;34m(x, w, b)\u001b[0m\n\u001b[0;32m     14\u001b[0m p \u001b[38;5;241m=\u001b[39m \u001b[38;5;241m0\u001b[39m\n\u001b[0;32m     15\u001b[0m \u001b[38;5;28;01mfor\u001b[39;00m i \u001b[38;5;129;01min\u001b[39;00m \u001b[38;5;28mrange\u001b[39m(n):\n\u001b[1;32m---> 16\u001b[0m     p \u001b[38;5;241m+\u001b[39m\u001b[38;5;241m=\u001b[39m x[i] \u001b[38;5;241m*\u001b[39m \u001b[43mw\u001b[49m\u001b[43m[\u001b[49m\u001b[43mi\u001b[49m\u001b[43m]\u001b[49m\n\u001b[0;32m     17\u001b[0m p \u001b[38;5;241m+\u001b[39m\u001b[38;5;241m=\u001b[39m b\n\u001b[0;32m     18\u001b[0m \u001b[38;5;28;01mreturn\u001b[39;00m p\n",
      "\u001b[1;31mIndexError\u001b[0m: index 4 is out of bounds for axis 0 with size 4"
     ]
    }
   ],
   "source": [
    "# get a row from our training data\n",
    "x_vec = X_train[0,:]\n",
    "print(f\"x_vec shape {x_vec.shape}, x_vec value: {x_vec}\")\n",
    "\n",
    "# make a prediction\n",
    "f_wb = predict_single_loop(x_vec, w_init, b_init)\n",
    "print(f\"f_wb shape {f_wb.shape}, prediction: {f_wb}\")"
   ]
  },
  {
   "cell_type": "code",
   "execution_count": null,
   "id": "947df92b-7d95-417f-9144-77b6dbb191fa",
   "metadata": {},
   "outputs": [],
   "source": []
  }
 ],
 "metadata": {
  "kernelspec": {
   "display_name": "Python 3 (ipykernel)",
   "language": "python",
   "name": "python3"
  },
  "language_info": {
   "codemirror_mode": {
    "name": "ipython",
    "version": 3
   },
   "file_extension": ".py",
   "mimetype": "text/x-python",
   "name": "python",
   "nbconvert_exporter": "python",
   "pygments_lexer": "ipython3",
   "version": "3.12.0"
  }
 },
 "nbformat": 4,
 "nbformat_minor": 5
}
